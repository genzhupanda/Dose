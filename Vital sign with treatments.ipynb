{
 "cells": [
  {
   "cell_type": "code",
   "execution_count": 2,
   "metadata": {},
   "outputs": [
    {
     "data": {
      "text/plain": [
       "(4823, 57)"
      ]
     },
     "execution_count": 2,
     "metadata": {},
     "output_type": "execute_result"
    }
   ],
   "source": [
    "import pandas as pd\n",
    "import seaborn as sns\n",
    "import numpy as np\n",
    "import matplotlib.pyplot as plt\n",
    "sns.set()\n",
    "from matplotlib.dates import DateFormatter\n",
    "# -----------------------------------------------------------------------------------\n",
    "# Load the patient level table\n",
    "# -----------------------------------------------------------------------------------\n",
    "root_dir = \"H:/Research/Hand_dirty/SAH_data/\"\n",
    "patient = pd.read_csv(\n",
    "        root_dir+\"patient_encounter/Pat_file_ENC.csv\")\n",
    "\n",
    "patient['PATIENT_SK'].nunique()                      # 4810\n",
    "SAH_ENC_screened_24h_rule = pd.read_csv(\n",
    "  root_dir+\"patient_encounter/SAH_ENC_screened_24h_rule.csv\")\n",
    "SAH_ENC_screened_24h_rule['PATIENT_SK'].nunique()    # 4810\n",
    "SAH_ENC_screened_24h_rule['ENCOUNTER_ID'].nunique()  # 4823\n",
    "SAH_ENC_screened_24h_rule.shape\n",
    "# Get a new patient level table by adding information such as encounter ID\n",
    "pat_enc_final = pd.merge(patient, SAH_ENC_screened_24h_rule, on='PATIENT_SK')\n",
    "pat_enc_final.shape"
   ]
  },
  {
   "cell_type": "code",
   "execution_count": 3,
   "metadata": {},
   "outputs": [],
   "source": [
    "pd.options.display.max_rows = 50\n",
    "pd.options.display.max_columns = 10\n",
    "enc_med_cl2 = pd.read_csv(root_dir+'medication/sah_pts_enc_med_sl_ad_cl2.tsv',\n",
    "                          delimiter='\\t')\n",
    "enc_med_cl3 = pd.read_csv(root_dir+'medication/sah_pts_all_enc_med_cl3_v2.tsv',\n",
    "                          delimiter='\\t')\n",
    "# In order to get the dose quantity,\n",
    "# we need to merge some columns between enc_med_cl2 and enc_med_cl3\n",
    "enc_med_cl2 = pd.merge(enc_med_cl2, enc_med_cl3[['INDEX_ID', 'DOSE_QUANTITY',\n",
    "                       'ORDER_NO', 'TOTAL_DISPENSED_DOSES', 'CREDIT_QUANTITY',\n",
    "                       'CHARGE_QUANTITY', 'INFUSION_RATE', 'INFUSION_TIME',\n",
    "                       'DOSE_FORM_DESCRIPTION', 'ROUTE_DESCRIPTION',\n",
    "                       'INITIAL_DOSE_QUANTITY']],\n",
    "                        on='INDEX_ID')"
   ]
  },
  {
   "cell_type": "code",
   "execution_count": 4,
   "metadata": {},
   "outputs": [],
   "source": [
    "# Medication id\n",
    "enc_med_cl2['MEDICATION_ID'].nunique()  # 70\n",
    "enc_med_cl2.groupby('GENERIC_NAME')['MEDICATION_ID'].nunique()\n",
    "# Load NDC_codes information\n",
    "vasopressor_ndc_codes = pd.read_csv(\n",
    "        root_dir+'medication/list of vasopressors with ndc codes.tsv',\n",
    "        delimiter='\\t')\n",
    "vasopressor_ndc_codes = vasopressor_ndc_codes[[\n",
    "        'MEDICATION_ID', 'NDC_CODE']].drop_duplicates()\n",
    "vasopressor_ndc_codes['MEDICATION_ID'].nunique()\n",
    "vasopressor_ndc_codes['NDC_CODE'].nunique()\n",
    "enc_med_cl2 = pd.merge(vasopressor_ndc_codes, enc_med_cl2, on='MEDICATION_ID',\n",
    "                       how='inner')\n",
    "# NDC code:0517-1805-25 to verify my theory of unit strength\n",
    "enc_med_cl2['PRODUCT_STRENGTH_DESCRIPTION'] = enc_med_cl2[\n",
    "        'PRODUCT_STRENGTH_DESCRIPTION'].str.replace(\"mL\", \"ml\")"
   ]
  },
  {
   "cell_type": "code",
   "execution_count": 5,
   "metadata": {},
   "outputs": [
    {
     "name": "stderr",
     "output_type": "stream",
     "text": [
      "C:\\Users\\gzhu1\\AppData\\Local\\Continuum\\anaconda3\\lib\\site-packages\\ipykernel_launcher.py:36: SettingWithCopyWarning: \n",
      "A value is trying to be set on a copy of a slice from a DataFrame\n",
      "\n",
      "See the caveats in the documentation: http://pandas.pydata.org/pandas-docs/stable/indexing.html#indexing-view-versus-copy\n"
     ]
    }
   ],
   "source": [
    "def bar_annotation(ax, option='number'):\n",
    "    '''\n",
    "    This function is to add according number or percentage on every bar\n",
    "    option: number or percentage, default is number\n",
    "    ax: the figure object\n",
    "    '''\n",
    "    try:\n",
    "        if option == 'number':\n",
    "            for i in ax.patches:\n",
    "                ax.text(i.get_x(), i.get_height()+.5, i.get_height(),\n",
    "                         fontsize=15, color='dimgrey')\n",
    "        if option == 'percentage':\n",
    "            totals = []\n",
    "            for i in ax.patches:\n",
    "                totals.append(i.get_height())\n",
    "                total = sum(totals)\n",
    "            for i in ax.patches:\n",
    "                ax.text(i.get_x(), i.get_height()+.5,\n",
    "                        str(round((i.get_height()/total)*100, 2))+'%',\n",
    "                        fontsize=15, color='dimgrey')\n",
    "    except:\n",
    "        return('inputs are wrong')\n",
    "\n",
    "\n",
    "def total_seconds(time):\n",
    "    '''\n",
    "    Convert the resolution of time to hours\n",
    "    '''\n",
    "    return time.total_seconds()/3600\n",
    "enc_med_cl2['MED_STARTED_DT_TM'] = pd.to_datetime(\n",
    "        enc_med_cl2['MED_STARTED_DT_TM'])\n",
    "start_tm_na_ind = (enc_med_cl2['MED_STARTED_DT_TM'].apply(str)\n",
    "                   == '01-JAN-1000 00:00:00')\n",
    "stop_tm_na_ind = (enc_med_cl2['MED_STOPPED_DT_TM'].apply(str)\n",
    "                  == '01-JAN-1000 00:00:00')\n",
    "enc_med_cl2['MED_STOPPED_DT_TM'][stop_tm_na_ind] = np.nan\n",
    "enc_med_cl2['MED_STOPPED_DT_TM'] = pd.to_datetime(\n",
    "        enc_med_cl2['MED_STOPPED_DT_TM'])\n",
    "enc_med_cl2['stop_start_gap'] = enc_med_cl2['MED_STOPPED_DT_TM'] -\\\n",
    "                 enc_med_cl2['MED_STARTED_DT_TM']\n",
    "enc_med_cl2['stop_start_gap'] = enc_med_cl2['stop_start_gap'].\\\n",
    "                                apply(total_seconds)"
   ]
  },
  {
   "cell_type": "code",
   "execution_count": 6,
   "metadata": {},
   "outputs": [],
   "source": [
    "enc_med_cl2['UNIT_STRENGTH'] = enc_med_cl2.eval('ORDER_STRENGTH/DOSE_QUANTITY')\n",
    "enc_med_cl2['TOTAL_CONSUMED_STRENGTH'] = enc_med_cl2.eval(\n",
    "                                        'UNIT_STRENGTH *CONSUMED_QUANTITY')"
   ]
  },
  {
   "cell_type": "code",
   "execution_count": 7,
   "metadata": {},
   "outputs": [],
   "source": [
    "pat_enc_med = pd.merge(pat_enc_final[['PATIENT_SK', 'ENCOUNTER_ID']],\n",
    "                       enc_med_cl2, on='ENCOUNTER_ID')\n",
    "pat_enc_med['MED_STARTED_DT_TM'] = pd.to_datetime(\n",
    "                                   pat_enc_med['MED_STARTED_DT_TM'])\n",
    "pat_enc_med = pat_enc_med.sort_values(by='MED_STARTED_DT_TM')\n",
    "group_by_patientsk = pat_enc_med.groupby('PATIENT_SK')\n",
    "\n",
    "# Get the number of types of treatments one patient received\n",
    "treatment_types_per_patient = group_by_patientsk['GENERIC_NAME'].nunique()"
   ]
  },
  {
   "cell_type": "code",
   "execution_count": 8,
   "metadata": {},
   "outputs": [],
   "source": [
    "# Extract the patients who have only been assigned one type of treatment\n",
    "one_type_treatment = pat_enc_med[pat_enc_med['PATIENT_SK'].isin(\n",
    "       treatment_types_per_patient[treatment_types_per_patient == 1].index)]\n",
    "# The number of patients who only been assigned one type of treatment\n",
    "one_type_treatment.shape[0]  # 5813\n",
    "one_type_treatment['PATIENT_SK'].nunique()  # 3293\n",
    "one_type_treatment['TOTAL_CONSUMED_STRENGTH'].describe()\n",
    "# First see how many observations whose total consumed strengths are available\n",
    "one_type_treatment_valid_tcs = one_type_treatment.query(\n",
    "        'TOTAL_CONSUMED_STRENGTH>0')\n",
    "one_type_treatment_valid_tcs.shape[0]  # 3309\n",
    "one_type_treatment_valid_tcs['PATIENT_SK'].nunique()  # 1839\n",
    "# To calculate the frequency of the vasopressors for every patient\n",
    "one_type_treatment_groupby_pat = one_type_treatment_valid_tcs.groupby(\n",
    "        'PATIENT_SK')\n",
    "one_type_treatment_vaspsr_counts = one_type_treatment_groupby_pat[\n",
    "        'GENERIC_NAME'].value_counts()"
   ]
  },
  {
   "cell_type": "markdown",
   "metadata": {},
   "source": [
    "# Analysis for patients received one type of treatment"
   ]
  },
  {
   "cell_type": "code",
   "execution_count": 9,
   "metadata": {},
   "outputs": [
    {
     "name": "stdout",
     "output_type": "stream",
     "text": [
      "The number of patients who only received one type of treatment: \n",
      "3293.\n",
      "The number of patients who only received one type of treatment and have total consumed strength > 0: \n",
      "1839.\n"
     ]
    }
   ],
   "source": [
    "print('The number of patients who only received one type of treatment: \\n{}.'.format(one_type_treatment['PATIENT_SK'].nunique()))\n",
    "print('The number of patients who only received one type of treatment and have total consumed strength > 0: \\n{}.'.format(\n",
    "one_type_treatment_valid_tcs['PATIENT_SK'].nunique()))"
   ]
  },
  {
   "cell_type": "markdown",
   "metadata": {},
   "source": [
    "## For the 1839 patients"
   ]
  },
  {
   "cell_type": "markdown",
   "metadata": {},
   "source": [
    "### Order frequency"
   ]
  },
  {
   "cell_type": "markdown",
   "metadata": {},
   "source": [
    "Note that following figure is for the whole three treatments"
   ]
  },
  {
   "cell_type": "code",
   "execution_count": 10,
   "metadata": {},
   "outputs": [
    {
     "data": {
      "text/plain": [
       "Text(0,0.5,'Counts of patients')"
      ]
     },
     "execution_count": 10,
     "metadata": {},
     "output_type": "execute_result"
    },
    {
     "data": {
      "image/png": "[encoded data removed]",
      "text/plain": [
       "<Figure size 432x288 with 1 Axes>"
      ]
     },
     "metadata": {},
     "output_type": "display_data"
    }
   ],
   "source": [
    "# The distribution of the medication frequency\n",
    "ax = one_type_treatment_vaspsr_counts.hist(bins=100)\n",
    "ax.set_xlabel('Order frequency')\n",
    "ax.set_ylabel('Counts of patients')"
   ]
  },
  {
   "cell_type": "markdown",
   "metadata": {},
   "source": [
    "In terms of different type of treatments"
   ]
  },
  {
   "cell_type": "code",
   "execution_count": 11,
   "metadata": {},
   "outputs": [
    {
     "data": {
      "text/plain": [
       "Text(0,0.5,'Counts of patients')"
      ]
     },
     "execution_count": 11,
     "metadata": {},
     "output_type": "execute_result"
    },
    {
     "data": {
      "image/png": "[encoded data removed]",
      "text/plain": [
       "<Figure size 432x288 with 1 Axes>"
      ]
     },
     "metadata": {},
     "output_type": "display_data"
    }
   ],
   "source": [
    "one_type_treatment_vaspsr_counts = one_type_treatment_vaspsr_counts.rename(\n",
    "        \"medication_frequency\")\n",
    "one_type_treatment_vaspsr_counts = one_type_treatment_vaspsr_counts\\\n",
    "                                  .reset_index()\n",
    "# The distribution of the three types of treatments\n",
    "one_type_treatment_vaspsr_counts['GENERIC_NAME'].value_counts()\n",
    "# Since output of the fucntion df.describe() in a loop is strange, I do not\n",
    "# use the loop here\n",
    "treatment_types = one_type_treatment_vaspsr_counts['GENERIC_NAME'].unique()\n",
    "ax = pd.value_counts(one_type_treatment_vaspsr_counts.query('GENERIC_NAME == @treatment_types[0]')[\n",
    "        'medication_frequency'], sort=False).plot(kind='bar')\n",
    "bar_annotation(ax, 'number')\n",
    "ax.set_xlabel('Order frequency of phenylephrine')\n",
    "ax.set_ylabel('Counts of patients')"
   ]
  },
  {
   "cell_type": "code",
   "execution_count": 12,
   "metadata": {},
   "outputs": [
    {
     "data": {
      "text/plain": [
       "Text(0,0.5,'Counts')"
      ]
     },
     "execution_count": 12,
     "metadata": {},
     "output_type": "execute_result"
    },
    {
     "data": {
      "image/png": "[encoded data removed]",
      "text/plain": [
       "<Figure size 432x288 with 1 Axes>"
      ]
     },
     "metadata": {},
     "output_type": "display_data"
    }
   ],
   "source": [
    "ax = pd.value_counts(one_type_treatment_vaspsr_counts.query('GENERIC_NAME == @treatment_types[1]')[\n",
    "        'medication_frequency'], sort=False).plot(kind='bar')\n",
    "bar_annotation(ax, 'number')\n",
    "ax.set_xlabel('Order frequency of norepinephrine')\n",
    "ax.set_ylabel('Counts')"
   ]
  },
  {
   "cell_type": "code",
   "execution_count": 13,
   "metadata": {},
   "outputs": [
    {
     "data": {
      "text/plain": [
       "Text(0,0.5,'Counts of patients')"
      ]
     },
     "execution_count": 13,
     "metadata": {},
     "output_type": "execute_result"
    },
    {
     "data": {
      "image/png": "[encoded data removed]",
      "text/plain": [
       "<Figure size 432x288 with 1 Axes>"
      ]
     },
     "metadata": {},
     "output_type": "display_data"
    }
   ],
   "source": [
    "ax = pd.value_counts(one_type_treatment_vaspsr_counts.query('GENERIC_NAME == @treatment_types[2]')[\n",
    "        'medication_frequency'], sort=False).plot(kind='bar')\n",
    "bar_annotation(ax, 'number')\n",
    "ax.set_xlabel('Order frequency of dopamine')\n",
    "ax.set_ylabel('Counts of patients')"
   ]
  },
  {
   "cell_type": "markdown",
   "metadata": {},
   "source": [
    "### Time gap between different orders for every encounter"
   ]
  },
  {
   "cell_type": "markdown",
   "metadata": {},
   "source": [
    "#### Distribution "
   ]
  },
  {
   "cell_type": "markdown",
   "metadata": {},
   "source": [
    "The unit of the order_time_diff is Hour here."
   ]
  },
  {
   "cell_type": "code",
   "execution_count": 14,
   "metadata": {},
   "outputs": [
    {
     "data": {
      "text/html": [
       "<div>\n",
       "<style scoped>\n",
       "    .dataframe tbody tr th:only-of-type {\n",
       "        vertical-align: middle;\n",
       "    }\n",
       "\n",
       "    .dataframe tbody tr th {\n",
       "        vertical-align: top;\n",
       "    }\n",
       "\n",
       "    .dataframe thead th {\n",
       "        text-align: right;\n",
       "    }\n",
       "</style>\n",
       "<table border=\"1\" class=\"dataframe\">\n",
       "  <thead>\n",
       "    <tr style=\"text-align: right;\">\n",
       "      <th></th>\n",
       "      <th>order_time_diff</th>\n",
       "    </tr>\n",
       "  </thead>\n",
       "  <tbody>\n",
       "    <tr>\n",
       "      <th>count</th>\n",
       "      <td>1470.000000</td>\n",
       "    </tr>\n",
       "    <tr>\n",
       "      <th>mean</th>\n",
       "      <td>39.690499</td>\n",
       "    </tr>\n",
       "    <tr>\n",
       "      <th>std</th>\n",
       "      <td>113.290220</td>\n",
       "    </tr>\n",
       "    <tr>\n",
       "      <th>min</th>\n",
       "      <td>0.000000</td>\n",
       "    </tr>\n",
       "    <tr>\n",
       "      <th>25%</th>\n",
       "      <td>1.000000</td>\n",
       "    </tr>\n",
       "    <tr>\n",
       "      <th>50%</th>\n",
       "      <td>7.000000</td>\n",
       "    </tr>\n",
       "    <tr>\n",
       "      <th>75%</th>\n",
       "      <td>28.000000</td>\n",
       "    </tr>\n",
       "    <tr>\n",
       "      <th>max</th>\n",
       "      <td>1743.883333</td>\n",
       "    </tr>\n",
       "  </tbody>\n",
       "</table>\n",
       "</div>"
      ],
      "text/plain": [
       "       order_time_diff\n",
       "count      1470.000000\n",
       "mean         39.690499\n",
       "std         113.290220\n",
       "min           0.000000\n",
       "25%           1.000000\n",
       "50%           7.000000\n",
       "75%          28.000000\n",
       "max        1743.883333"
      ]
     },
     "execution_count": 14,
     "metadata": {},
     "output_type": "execute_result"
    }
   ],
   "source": [
    "time_diff = []\n",
    "for patient_sk, data in one_type_treatment_groupby_pat:\n",
    "    if data.shape[0] > 1:\n",
    "        temp_time_diff = data['MED_STARTED_DT_TM'].shift(-1)\\\n",
    "                         - data['MED_STARTED_DT_TM']\n",
    "        temp_time_diff = pd.DataFrame(temp_time_diff.dropna())\n",
    "        temp_time_diff['PATIENT_SK'] = patient_sk\n",
    "        time_diff.append(temp_time_diff)\n",
    "time_diff = pd.concat(time_diff)\n",
    "time_diff.rename(columns={\"MED_STARTED_DT_TM\": \"order_time_diff\"}, inplace=True)\n",
    "def total_seconds(time):\n",
    "    '''\n",
    "    Convert the resolution of time to hours\n",
    "    '''\n",
    "    return time.total_seconds()/3600\n",
    "\n",
    "\n",
    "time_diff[\"order_time_diff\"] = time_diff[\"order_time_diff\"].apply(total_seconds)\n",
    "time_diff[[\"order_time_diff\"]].describe()"
   ]
  },
  {
   "cell_type": "code",
   "execution_count": 15,
   "metadata": {},
   "outputs": [
    {
     "data": {
      "text/plain": [
       "Text(0,0.5,'Counts')"
      ]
     },
     "execution_count": 15,
     "metadata": {},
     "output_type": "execute_result"
    },
    {
     "data": {
      "image/png": "[encoded data removed]",
      "text/plain": [
       "<Figure size 432x288 with 1 Axes>"
      ]
     },
     "metadata": {},
     "output_type": "display_data"
    }
   ],
   "source": [
    "bins = [-0.000001, 2, 8, 1*24, 2*24, 5*24, 10*24,\n",
    "        30*24, 60*24, 1744]\n",
    "time_interval = ['<= 2 hours', '2 hours-8 hours', '8 hours-1 day',\n",
    "                 '1 day-2 days', '2 days-5 days', '5 days-10 days',\n",
    "                 '10 days-30 days', '30 dyas-60 days', 'over 60 days']\n",
    "cutted_time_diff = pd.cut(time_diff[\"order_time_diff\"], bins,\n",
    "                          labels=time_interval)\n",
    "ax = cutted_time_diff.value_counts().plot(kind='bar')\n",
    "bar_annotation(ax)\n",
    "ax.set_xlabel('Time difference between orders')\n",
    "ax.set_ylabel('Counts')"
   ]
  },
  {
   "cell_type": "markdown",
   "metadata": {},
   "source": [
    "#### Time difference is 0"
   ]
  },
  {
   "cell_type": "code",
   "execution_count": 16,
   "metadata": {},
   "outputs": [
    {
     "name": "stdout",
     "output_type": "stream",
     "text": [
      "The number of patients who has dulplicate order time : 46 \n"
     ]
    }
   ],
   "source": [
    "time_diff_equal_0 = time_diff.query('order_time_diff == 0')\n",
    "time_diff_equal_0.shape\n",
    "print('The number of patients who has dulplicate order time : {} '.format(time_diff_equal_0['PATIENT_SK'].nunique()))\n"
   ]
  },
  {
   "cell_type": "markdown",
   "metadata": {},
   "source": [
    "Check it in detail"
   ]
  },
  {
   "cell_type": "code",
   "execution_count": 17,
   "metadata": {},
   "outputs": [
    {
     "data": {
      "text/html": [
       "<div>\n",
       "<style scoped>\n",
       "    .dataframe tbody tr th:only-of-type {\n",
       "        vertical-align: middle;\n",
       "    }\n",
       "\n",
       "    .dataframe tbody tr th {\n",
       "        vertical-align: top;\n",
       "    }\n",
       "\n",
       "    .dataframe thead th {\n",
       "        text-align: right;\n",
       "    }\n",
       "</style>\n",
       "<table border=\"1\" class=\"dataframe\">\n",
       "  <thead>\n",
       "    <tr style=\"text-align: right;\">\n",
       "      <th></th>\n",
       "      <th>PATIENT_SK</th>\n",
       "      <th>ENCOUNTER_ID</th>\n",
       "      <th>MEDICATION_ID</th>\n",
       "      <th>NDC_CODE</th>\n",
       "      <th>INDEX_ID</th>\n",
       "      <th>...</th>\n",
       "      <th>ROUTE_DESCRIPTION</th>\n",
       "      <th>INITIAL_DOSE_QUANTITY</th>\n",
       "      <th>stop_start_gap</th>\n",
       "      <th>UNIT_STRENGTH</th>\n",
       "      <th>TOTAL_CONSUMED_STRENGTH</th>\n",
       "    </tr>\n",
       "  </thead>\n",
       "  <tbody>\n",
       "    <tr>\n",
       "      <th>1121</th>\n",
       "      <td>3194108</td>\n",
       "      <td>4064529</td>\n",
       "      <td>12895</td>\n",
       "      <td>641048225</td>\n",
       "      <td>134880590</td>\n",
       "      <td>...</td>\n",
       "      <td>injectable</td>\n",
       "      <td>1</td>\n",
       "      <td>0.000000</td>\n",
       "      <td>10.000</td>\n",
       "      <td>40.000</td>\n",
       "    </tr>\n",
       "    <tr>\n",
       "      <th>1122</th>\n",
       "      <td>3194108</td>\n",
       "      <td>4064529</td>\n",
       "      <td>12895</td>\n",
       "      <td>641048225</td>\n",
       "      <td>134880591</td>\n",
       "      <td>...</td>\n",
       "      <td>injectable</td>\n",
       "      <td>1</td>\n",
       "      <td>0.000000</td>\n",
       "      <td>10.000</td>\n",
       "      <td>40.000</td>\n",
       "    </tr>\n",
       "    <tr>\n",
       "      <th>2937</th>\n",
       "      <td>8442845</td>\n",
       "      <td>45489407</td>\n",
       "      <td>22082</td>\n",
       "      <td>74180001</td>\n",
       "      <td>290781327</td>\n",
       "      <td>...</td>\n",
       "      <td>injectable</td>\n",
       "      <td>1</td>\n",
       "      <td>78.116667</td>\n",
       "      <td>10.000</td>\n",
       "      <td>300.000</td>\n",
       "    </tr>\n",
       "    <tr>\n",
       "      <th>2932</th>\n",
       "      <td>8442845</td>\n",
       "      <td>45489407</td>\n",
       "      <td>22082</td>\n",
       "      <td>74180001</td>\n",
       "      <td>291173655</td>\n",
       "      <td>...</td>\n",
       "      <td>injectable</td>\n",
       "      <td>1</td>\n",
       "      <td>36.000000</td>\n",
       "      <td>10.000</td>\n",
       "      <td>150.000</td>\n",
       "    </tr>\n",
       "    <tr>\n",
       "      <th>2898</th>\n",
       "      <td>8371805</td>\n",
       "      <td>45722307</td>\n",
       "      <td>22082</td>\n",
       "      <td>74180001</td>\n",
       "      <td>286733591</td>\n",
       "      <td>...</td>\n",
       "      <td>injectable</td>\n",
       "      <td>1</td>\n",
       "      <td>30.000000</td>\n",
       "      <td>10.000</td>\n",
       "      <td>50.000</td>\n",
       "    </tr>\n",
       "    <tr>\n",
       "      <th>2896</th>\n",
       "      <td>8371805</td>\n",
       "      <td>45722307</td>\n",
       "      <td>22082</td>\n",
       "      <td>74180001</td>\n",
       "      <td>286729505</td>\n",
       "      <td>...</td>\n",
       "      <td>injectable</td>\n",
       "      <td>1</td>\n",
       "      <td>0.000000</td>\n",
       "      <td>2.000</td>\n",
       "      <td>2.000</td>\n",
       "    </tr>\n",
       "    <tr>\n",
       "      <th>9534</th>\n",
       "      <td>41705990</td>\n",
       "      <td>136866640</td>\n",
       "      <td>28413</td>\n",
       "      <td>74780922</td>\n",
       "      <td>79379524</td>\n",
       "      <td>...</td>\n",
       "      <td>intravenous</td>\n",
       "      <td>0</td>\n",
       "      <td>30.700000</td>\n",
       "      <td>400.000</td>\n",
       "      <td>400.000</td>\n",
       "    </tr>\n",
       "    <tr>\n",
       "      <th>9533</th>\n",
       "      <td>41705990</td>\n",
       "      <td>136866640</td>\n",
       "      <td>28413</td>\n",
       "      <td>74780922</td>\n",
       "      <td>79387867</td>\n",
       "      <td>...</td>\n",
       "      <td>intravenous</td>\n",
       "      <td>1</td>\n",
       "      <td>0.000000</td>\n",
       "      <td>400.000</td>\n",
       "      <td>400.000</td>\n",
       "    </tr>\n",
       "    <tr>\n",
       "      <th>3226</th>\n",
       "      <td>8837524</td>\n",
       "      <td>45677942</td>\n",
       "      <td>22082</td>\n",
       "      <td>74180001</td>\n",
       "      <td>127152495</td>\n",
       "      <td>...</td>\n",
       "      <td>injectable</td>\n",
       "      <td>1</td>\n",
       "      <td>0.000000</td>\n",
       "      <td>2.000</td>\n",
       "      <td>2.000</td>\n",
       "    </tr>\n",
       "    <tr>\n",
       "      <th>3224</th>\n",
       "      <td>8837524</td>\n",
       "      <td>45677942</td>\n",
       "      <td>22082</td>\n",
       "      <td>74180001</td>\n",
       "      <td>127177260</td>\n",
       "      <td>...</td>\n",
       "      <td>injectable</td>\n",
       "      <td>1</td>\n",
       "      <td>17.100000</td>\n",
       "      <td>10.000</td>\n",
       "      <td>200.000</td>\n",
       "    </tr>\n",
       "    <tr>\n",
       "      <th>3353</th>\n",
       "      <td>9194052</td>\n",
       "      <td>45128498</td>\n",
       "      <td>22082</td>\n",
       "      <td>74180001</td>\n",
       "      <td>519871</td>\n",
       "      <td>...</td>\n",
       "      <td>injectable</td>\n",
       "      <td>1</td>\n",
       "      <td>0.000000</td>\n",
       "      <td>2.000</td>\n",
       "      <td>2.000</td>\n",
       "    </tr>\n",
       "    <tr>\n",
       "      <th>3354</th>\n",
       "      <td>9194052</td>\n",
       "      <td>45128498</td>\n",
       "      <td>22082</td>\n",
       "      <td>74180001</td>\n",
       "      <td>507532</td>\n",
       "      <td>...</td>\n",
       "      <td>injectable</td>\n",
       "      <td>2</td>\n",
       "      <td>35.000000</td>\n",
       "      <td>10.000</td>\n",
       "      <td>300.000</td>\n",
       "    </tr>\n",
       "    <tr>\n",
       "      <th>3352</th>\n",
       "      <td>9194052</td>\n",
       "      <td>45128498</td>\n",
       "      <td>22082</td>\n",
       "      <td>74180001</td>\n",
       "      <td>474609</td>\n",
       "      <td>...</td>\n",
       "      <td>injectable</td>\n",
       "      <td>1</td>\n",
       "      <td>0.000000</td>\n",
       "      <td>2.000</td>\n",
       "      <td>2.000</td>\n",
       "    </tr>\n",
       "    <tr>\n",
       "      <th>3356</th>\n",
       "      <td>9194052</td>\n",
       "      <td>45128498</td>\n",
       "      <td>22082</td>\n",
       "      <td>74180001</td>\n",
       "      <td>817212</td>\n",
       "      <td>...</td>\n",
       "      <td>injectable</td>\n",
       "      <td>1</td>\n",
       "      <td>41.000000</td>\n",
       "      <td>10.000</td>\n",
       "      <td>250.000</td>\n",
       "    </tr>\n",
       "    <tr>\n",
       "      <th>3792</th>\n",
       "      <td>9891881</td>\n",
       "      <td>45551641</td>\n",
       "      <td>22082</td>\n",
       "      <td>74180001</td>\n",
       "      <td>352036846</td>\n",
       "      <td>...</td>\n",
       "      <td>injectable</td>\n",
       "      <td>1</td>\n",
       "      <td>0.200000</td>\n",
       "      <td>2.000</td>\n",
       "      <td>2.000</td>\n",
       "    </tr>\n",
       "    <tr>\n",
       "      <th>3791</th>\n",
       "      <td>9891881</td>\n",
       "      <td>45551641</td>\n",
       "      <td>22082</td>\n",
       "      <td>74180001</td>\n",
       "      <td>352601423</td>\n",
       "      <td>...</td>\n",
       "      <td>injectable</td>\n",
       "      <td>1</td>\n",
       "      <td>0.000000</td>\n",
       "      <td>2.000</td>\n",
       "      <td>2.000</td>\n",
       "    </tr>\n",
       "    <tr>\n",
       "      <th>3212</th>\n",
       "      <td>8822208</td>\n",
       "      <td>45149166</td>\n",
       "      <td>22082</td>\n",
       "      <td>74180001</td>\n",
       "      <td>61757589</td>\n",
       "      <td>...</td>\n",
       "      <td>injectable</td>\n",
       "      <td>1</td>\n",
       "      <td>0.000000</td>\n",
       "      <td>2.000</td>\n",
       "      <td>2.000</td>\n",
       "    </tr>\n",
       "    <tr>\n",
       "      <th>3208</th>\n",
       "      <td>8822208</td>\n",
       "      <td>45149166</td>\n",
       "      <td>22082</td>\n",
       "      <td>74180001</td>\n",
       "      <td>61542093</td>\n",
       "      <td>...</td>\n",
       "      <td>injectable</td>\n",
       "      <td>2</td>\n",
       "      <td>32.000000</td>\n",
       "      <td>10.000</td>\n",
       "      <td>250.000</td>\n",
       "    </tr>\n",
       "    <tr>\n",
       "      <th>9678</th>\n",
       "      <td>41986689</td>\n",
       "      <td>138351838</td>\n",
       "      <td>22085</td>\n",
       "      <td>24134204</td>\n",
       "      <td>165198133</td>\n",
       "      <td>...</td>\n",
       "      <td>injectable</td>\n",
       "      <td>1</td>\n",
       "      <td>0.000000</td>\n",
       "      <td>10.000</td>\n",
       "      <td>10.000</td>\n",
       "    </tr>\n",
       "    <tr>\n",
       "      <th>9677</th>\n",
       "      <td>41986689</td>\n",
       "      <td>138351838</td>\n",
       "      <td>22085</td>\n",
       "      <td>24134204</td>\n",
       "      <td>165189985</td>\n",
       "      <td>...</td>\n",
       "      <td>injectable</td>\n",
       "      <td>1</td>\n",
       "      <td>0.000000</td>\n",
       "      <td>10.000</td>\n",
       "      <td>60.000</td>\n",
       "    </tr>\n",
       "    <tr>\n",
       "      <th>3237</th>\n",
       "      <td>8892462</td>\n",
       "      <td>45143013</td>\n",
       "      <td>22082</td>\n",
       "      <td>74180001</td>\n",
       "      <td>331632751</td>\n",
       "      <td>...</td>\n",
       "      <td>injectable</td>\n",
       "      <td>1</td>\n",
       "      <td>0.000000</td>\n",
       "      <td>2.000</td>\n",
       "      <td>2.000</td>\n",
       "    </tr>\n",
       "    <tr>\n",
       "      <th>3238</th>\n",
       "      <td>8892462</td>\n",
       "      <td>45143013</td>\n",
       "      <td>22082</td>\n",
       "      <td>74180001</td>\n",
       "      <td>331628739</td>\n",
       "      <td>...</td>\n",
       "      <td>injectable</td>\n",
       "      <td>1</td>\n",
       "      <td>55.000000</td>\n",
       "      <td>10.000</td>\n",
       "      <td>400.000</td>\n",
       "    </tr>\n",
       "    <tr>\n",
       "      <th>2651</th>\n",
       "      <td>7362022</td>\n",
       "      <td>29182660</td>\n",
       "      <td>28413</td>\n",
       "      <td>74780922</td>\n",
       "      <td>306822985</td>\n",
       "      <td>...</td>\n",
       "      <td>intravenous</td>\n",
       "      <td>1</td>\n",
       "      <td>0.000000</td>\n",
       "      <td>400.000</td>\n",
       "      <td>400.000</td>\n",
       "    </tr>\n",
       "    <tr>\n",
       "      <th>2650</th>\n",
       "      <td>7362022</td>\n",
       "      <td>29182660</td>\n",
       "      <td>28413</td>\n",
       "      <td>74780922</td>\n",
       "      <td>306822984</td>\n",
       "      <td>...</td>\n",
       "      <td>intravenous</td>\n",
       "      <td>1</td>\n",
       "      <td>0.000000</td>\n",
       "      <td>400.000</td>\n",
       "      <td>400.000</td>\n",
       "    </tr>\n",
       "    <tr>\n",
       "      <th>2750</th>\n",
       "      <td>7966055</td>\n",
       "      <td>42015401</td>\n",
       "      <td>12895</td>\n",
       "      <td>641048225</td>\n",
       "      <td>298856709</td>\n",
       "      <td>...</td>\n",
       "      <td>injectable</td>\n",
       "      <td>0</td>\n",
       "      <td>0.000000</td>\n",
       "      <td>10.000</td>\n",
       "      <td>20.000</td>\n",
       "    </tr>\n",
       "    <tr>\n",
       "      <th>...</th>\n",
       "      <td>...</td>\n",
       "      <td>...</td>\n",
       "      <td>...</td>\n",
       "      <td>...</td>\n",
       "      <td>...</td>\n",
       "      <td>...</td>\n",
       "      <td>...</td>\n",
       "      <td>...</td>\n",
       "      <td>...</td>\n",
       "      <td>...</td>\n",
       "      <td>...</td>\n",
       "    </tr>\n",
       "    <tr>\n",
       "      <th>10824</th>\n",
       "      <td>47245521</td>\n",
       "      <td>35163884</td>\n",
       "      <td>12894</td>\n",
       "      <td>517029925</td>\n",
       "      <td>139372136</td>\n",
       "      <td>...</td>\n",
       "      <td>injectable</td>\n",
       "      <td>0</td>\n",
       "      <td>0.000000</td>\n",
       "      <td>10.000</td>\n",
       "      <td>10.000</td>\n",
       "    </tr>\n",
       "    <tr>\n",
       "      <th>10823</th>\n",
       "      <td>47245521</td>\n",
       "      <td>35163884</td>\n",
       "      <td>12894</td>\n",
       "      <td>517029925</td>\n",
       "      <td>139396381</td>\n",
       "      <td>...</td>\n",
       "      <td>injectable</td>\n",
       "      <td>0</td>\n",
       "      <td>0.000000</td>\n",
       "      <td>2.000</td>\n",
       "      <td>2.000</td>\n",
       "    </tr>\n",
       "    <tr>\n",
       "      <th>4528</th>\n",
       "      <td>10792210</td>\n",
       "      <td>51308755</td>\n",
       "      <td>22082</td>\n",
       "      <td>74180001</td>\n",
       "      <td>65983146</td>\n",
       "      <td>...</td>\n",
       "      <td>injectable</td>\n",
       "      <td>1</td>\n",
       "      <td>0.000000</td>\n",
       "      <td>2.000</td>\n",
       "      <td>2.000</td>\n",
       "    </tr>\n",
       "    <tr>\n",
       "      <th>4529</th>\n",
       "      <td>10792210</td>\n",
       "      <td>51308755</td>\n",
       "      <td>22082</td>\n",
       "      <td>74180001</td>\n",
       "      <td>66559726</td>\n",
       "      <td>...</td>\n",
       "      <td>injectable</td>\n",
       "      <td>0</td>\n",
       "      <td>101.633333</td>\n",
       "      <td>10.000</td>\n",
       "      <td>300.000</td>\n",
       "    </tr>\n",
       "    <tr>\n",
       "      <th>3525</th>\n",
       "      <td>9445333</td>\n",
       "      <td>52164674</td>\n",
       "      <td>25737</td>\n",
       "      <td>74704101</td>\n",
       "      <td>389826202</td>\n",
       "      <td>...</td>\n",
       "      <td>intravenous</td>\n",
       "      <td>0</td>\n",
       "      <td>146.300000</td>\n",
       "      <td>4.000</td>\n",
       "      <td>64.000</td>\n",
       "    </tr>\n",
       "    <tr>\n",
       "      <th>3524</th>\n",
       "      <td>9445333</td>\n",
       "      <td>52164674</td>\n",
       "      <td>25737</td>\n",
       "      <td>74704101</td>\n",
       "      <td>390748391</td>\n",
       "      <td>...</td>\n",
       "      <td>intravenous</td>\n",
       "      <td>1</td>\n",
       "      <td>0.000000</td>\n",
       "      <td>2.000</td>\n",
       "      <td>4.000</td>\n",
       "    </tr>\n",
       "    <tr>\n",
       "      <th>3263</th>\n",
       "      <td>8950197</td>\n",
       "      <td>49467384</td>\n",
       "      <td>22082</td>\n",
       "      <td>74180001</td>\n",
       "      <td>105828829</td>\n",
       "      <td>...</td>\n",
       "      <td>injectable</td>\n",
       "      <td>1</td>\n",
       "      <td>90.900000</td>\n",
       "      <td>10.000</td>\n",
       "      <td>1400.000</td>\n",
       "    </tr>\n",
       "    <tr>\n",
       "      <th>3266</th>\n",
       "      <td>8950197</td>\n",
       "      <td>49467384</td>\n",
       "      <td>22082</td>\n",
       "      <td>74180001</td>\n",
       "      <td>102729834</td>\n",
       "      <td>...</td>\n",
       "      <td>injectable</td>\n",
       "      <td>1</td>\n",
       "      <td>-0.083333</td>\n",
       "      <td>10.000</td>\n",
       "      <td>100.000</td>\n",
       "    </tr>\n",
       "    <tr>\n",
       "      <th>3268</th>\n",
       "      <td>8950197</td>\n",
       "      <td>49467384</td>\n",
       "      <td>22082</td>\n",
       "      <td>74180001</td>\n",
       "      <td>102721527</td>\n",
       "      <td>...</td>\n",
       "      <td>injectable</td>\n",
       "      <td>1</td>\n",
       "      <td>0.000000</td>\n",
       "      <td>2.000</td>\n",
       "      <td>4.000</td>\n",
       "    </tr>\n",
       "    <tr>\n",
       "      <th>3265</th>\n",
       "      <td>8950197</td>\n",
       "      <td>49467384</td>\n",
       "      <td>22082</td>\n",
       "      <td>74180001</td>\n",
       "      <td>105852417</td>\n",
       "      <td>...</td>\n",
       "      <td>injectable</td>\n",
       "      <td>1</td>\n",
       "      <td>0.000000</td>\n",
       "      <td>2.000</td>\n",
       "      <td>4.000</td>\n",
       "    </tr>\n",
       "    <tr>\n",
       "      <th>4218</th>\n",
       "      <td>10412213</td>\n",
       "      <td>44819130</td>\n",
       "      <td>22082</td>\n",
       "      <td>74180001</td>\n",
       "      <td>65900302</td>\n",
       "      <td>...</td>\n",
       "      <td>injectable</td>\n",
       "      <td>1</td>\n",
       "      <td>0.000000</td>\n",
       "      <td>2.000</td>\n",
       "      <td>4.000</td>\n",
       "    </tr>\n",
       "    <tr>\n",
       "      <th>4217</th>\n",
       "      <td>10412213</td>\n",
       "      <td>44819130</td>\n",
       "      <td>22082</td>\n",
       "      <td>74180001</td>\n",
       "      <td>65900301</td>\n",
       "      <td>...</td>\n",
       "      <td>injectable</td>\n",
       "      <td>1</td>\n",
       "      <td>11.633333</td>\n",
       "      <td>10.000</td>\n",
       "      <td>200.000</td>\n",
       "    </tr>\n",
       "    <tr>\n",
       "      <th>4010</th>\n",
       "      <td>10139581</td>\n",
       "      <td>47844648</td>\n",
       "      <td>28413</td>\n",
       "      <td>74780922</td>\n",
       "      <td>192704376</td>\n",
       "      <td>...</td>\n",
       "      <td>intravenous</td>\n",
       "      <td>0</td>\n",
       "      <td>22.916667</td>\n",
       "      <td>400.000</td>\n",
       "      <td>800.000</td>\n",
       "    </tr>\n",
       "    <tr>\n",
       "      <th>4011</th>\n",
       "      <td>10139581</td>\n",
       "      <td>47844648</td>\n",
       "      <td>28413</td>\n",
       "      <td>74780922</td>\n",
       "      <td>192463173</td>\n",
       "      <td>...</td>\n",
       "      <td>intravenous</td>\n",
       "      <td>1</td>\n",
       "      <td>0.000000</td>\n",
       "      <td>400.000</td>\n",
       "      <td>800.000</td>\n",
       "    </tr>\n",
       "    <tr>\n",
       "      <th>10927</th>\n",
       "      <td>47492921</td>\n",
       "      <td>34648969</td>\n",
       "      <td>16980</td>\n",
       "      <td>74144304</td>\n",
       "      <td>164485324</td>\n",
       "      <td>...</td>\n",
       "      <td>intravenous</td>\n",
       "      <td>0</td>\n",
       "      <td>0.000000</td>\n",
       "      <td>4.000</td>\n",
       "      <td>56.000</td>\n",
       "    </tr>\n",
       "    <tr>\n",
       "      <th>10926</th>\n",
       "      <td>47492921</td>\n",
       "      <td>34648969</td>\n",
       "      <td>16980</td>\n",
       "      <td>74144304</td>\n",
       "      <td>164485323</td>\n",
       "      <td>...</td>\n",
       "      <td>intravenous</td>\n",
       "      <td>0</td>\n",
       "      <td>0.000000</td>\n",
       "      <td>4.000</td>\n",
       "      <td>56.000</td>\n",
       "    </tr>\n",
       "    <tr>\n",
       "      <th>4914</th>\n",
       "      <td>12237416</td>\n",
       "      <td>62069536</td>\n",
       "      <td>12894</td>\n",
       "      <td>517029925</td>\n",
       "      <td>135452555</td>\n",
       "      <td>...</td>\n",
       "      <td>injectable</td>\n",
       "      <td>1</td>\n",
       "      <td>10.850000</td>\n",
       "      <td>1200.000</td>\n",
       "      <td>9600.000</td>\n",
       "    </tr>\n",
       "    <tr>\n",
       "      <th>4915</th>\n",
       "      <td>12237416</td>\n",
       "      <td>62069536</td>\n",
       "      <td>109969</td>\n",
       "      <td>10019016312</td>\n",
       "      <td>135611539</td>\n",
       "      <td>...</td>\n",
       "      <td>injectable</td>\n",
       "      <td>2</td>\n",
       "      <td>10.850000</td>\n",
       "      <td>10.000</td>\n",
       "      <td>480.000</td>\n",
       "    </tr>\n",
       "    <tr>\n",
       "      <th>13916</th>\n",
       "      <td>70682840</td>\n",
       "      <td>366141359</td>\n",
       "      <td>8075320</td>\n",
       "      <td>36000016210</td>\n",
       "      <td>228274519</td>\n",
       "      <td>...</td>\n",
       "      <td>intravenous</td>\n",
       "      <td>0</td>\n",
       "      <td>0.000000</td>\n",
       "      <td>0.415</td>\n",
       "      <td>4.565</td>\n",
       "    </tr>\n",
       "    <tr>\n",
       "      <th>13915</th>\n",
       "      <td>70682840</td>\n",
       "      <td>366141359</td>\n",
       "      <td>8075320</td>\n",
       "      <td>36000016210</td>\n",
       "      <td>228274518</td>\n",
       "      <td>...</td>\n",
       "      <td>intravenous</td>\n",
       "      <td>0</td>\n",
       "      <td>0.000000</td>\n",
       "      <td>3.535</td>\n",
       "      <td>38.885</td>\n",
       "    </tr>\n",
       "    <tr>\n",
       "      <th>13913</th>\n",
       "      <td>70682840</td>\n",
       "      <td>366141359</td>\n",
       "      <td>8075320</td>\n",
       "      <td>36000016210</td>\n",
       "      <td>228462687</td>\n",
       "      <td>...</td>\n",
       "      <td>intravenous</td>\n",
       "      <td>0</td>\n",
       "      <td>0.000000</td>\n",
       "      <td>1.290</td>\n",
       "      <td>14.190</td>\n",
       "    </tr>\n",
       "    <tr>\n",
       "      <th>6294</th>\n",
       "      <td>14787902</td>\n",
       "      <td>367043209</td>\n",
       "      <td>8073573</td>\n",
       "      <td>61553027211</td>\n",
       "      <td>310258267</td>\n",
       "      <td>...</td>\n",
       "      <td>injectable</td>\n",
       "      <td>0</td>\n",
       "      <td>0.000000</td>\n",
       "      <td>16.000</td>\n",
       "      <td>128.000</td>\n",
       "    </tr>\n",
       "    <tr>\n",
       "      <th>6293</th>\n",
       "      <td>14787902</td>\n",
       "      <td>367043209</td>\n",
       "      <td>8073573</td>\n",
       "      <td>61553027211</td>\n",
       "      <td>310258266</td>\n",
       "      <td>...</td>\n",
       "      <td>injectable</td>\n",
       "      <td>0</td>\n",
       "      <td>0.000000</td>\n",
       "      <td>16.000</td>\n",
       "      <td>128.000</td>\n",
       "    </tr>\n",
       "    <tr>\n",
       "      <th>6296</th>\n",
       "      <td>14787902</td>\n",
       "      <td>367043209</td>\n",
       "      <td>8073573</td>\n",
       "      <td>61553027211</td>\n",
       "      <td>310180721</td>\n",
       "      <td>...</td>\n",
       "      <td>injectable</td>\n",
       "      <td>0</td>\n",
       "      <td>45.466667</td>\n",
       "      <td>16.000</td>\n",
       "      <td>128.000</td>\n",
       "    </tr>\n",
       "    <tr>\n",
       "      <th>6295</th>\n",
       "      <td>14787902</td>\n",
       "      <td>367043209</td>\n",
       "      <td>8073573</td>\n",
       "      <td>61553027211</td>\n",
       "      <td>310180720</td>\n",
       "      <td>...</td>\n",
       "      <td>injectable</td>\n",
       "      <td>0</td>\n",
       "      <td>45.466667</td>\n",
       "      <td>16.000</td>\n",
       "      <td>128.000</td>\n",
       "    </tr>\n",
       "  </tbody>\n",
       "</table>\n",
       "<p>107 rows × 45 columns</p>\n",
       "</div>"
      ],
      "text/plain": [
       "       PATIENT_SK  ENCOUNTER_ID  MEDICATION_ID     NDC_CODE   INDEX_ID  \\\n",
       "1121      3194108       4064529          12895    641048225  134880590   \n",
       "1122      3194108       4064529          12895    641048225  134880591   \n",
       "2937      8442845      45489407          22082     74180001  290781327   \n",
       "2932      8442845      45489407          22082     74180001  291173655   \n",
       "2898      8371805      45722307          22082     74180001  286733591   \n",
       "2896      8371805      45722307          22082     74180001  286729505   \n",
       "9534     41705990     136866640          28413     74780922   79379524   \n",
       "9533     41705990     136866640          28413     74780922   79387867   \n",
       "3226      8837524      45677942          22082     74180001  127152495   \n",
       "3224      8837524      45677942          22082     74180001  127177260   \n",
       "3353      9194052      45128498          22082     74180001     519871   \n",
       "3354      9194052      45128498          22082     74180001     507532   \n",
       "3352      9194052      45128498          22082     74180001     474609   \n",
       "3356      9194052      45128498          22082     74180001     817212   \n",
       "3792      9891881      45551641          22082     74180001  352036846   \n",
       "3791      9891881      45551641          22082     74180001  352601423   \n",
       "3212      8822208      45149166          22082     74180001   61757589   \n",
       "3208      8822208      45149166          22082     74180001   61542093   \n",
       "9678     41986689     138351838          22085     24134204  165198133   \n",
       "9677     41986689     138351838          22085     24134204  165189985   \n",
       "3237      8892462      45143013          22082     74180001  331632751   \n",
       "3238      8892462      45143013          22082     74180001  331628739   \n",
       "2651      7362022      29182660          28413     74780922  306822985   \n",
       "2650      7362022      29182660          28413     74780922  306822984   \n",
       "2750      7966055      42015401          12895    641048225  298856709   \n",
       "...           ...           ...            ...          ...        ...   \n",
       "10824    47245521      35163884          12894    517029925  139372136   \n",
       "10823    47245521      35163884          12894    517029925  139396381   \n",
       "4528     10792210      51308755          22082     74180001   65983146   \n",
       "4529     10792210      51308755          22082     74180001   66559726   \n",
       "3525      9445333      52164674          25737     74704101  389826202   \n",
       "3524      9445333      52164674          25737     74704101  390748391   \n",
       "3263      8950197      49467384          22082     74180001  105828829   \n",
       "3266      8950197      49467384          22082     74180001  102729834   \n",
       "3268      8950197      49467384          22082     74180001  102721527   \n",
       "3265      8950197      49467384          22082     74180001  105852417   \n",
       "4218     10412213      44819130          22082     74180001   65900302   \n",
       "4217     10412213      44819130          22082     74180001   65900301   \n",
       "4010     10139581      47844648          28413     74780922  192704376   \n",
       "4011     10139581      47844648          28413     74780922  192463173   \n",
       "10927    47492921      34648969          16980     74144304  164485324   \n",
       "10926    47492921      34648969          16980     74144304  164485323   \n",
       "4914     12237416      62069536          12894    517029925  135452555   \n",
       "4915     12237416      62069536         109969  10019016312  135611539   \n",
       "13916    70682840     366141359        8075320  36000016210  228274519   \n",
       "13915    70682840     366141359        8075320  36000016210  228274518   \n",
       "13913    70682840     366141359        8075320  36000016210  228462687   \n",
       "6294     14787902     367043209        8073573  61553027211  310258267   \n",
       "6293     14787902     367043209        8073573  61553027211  310258266   \n",
       "6296     14787902     367043209        8073573  61553027211  310180721   \n",
       "6295     14787902     367043209        8073573  61553027211  310180720   \n",
       "\n",
       "                ...           ROUTE_DESCRIPTION INITIAL_DOSE_QUANTITY  \\\n",
       "1121            ...                  injectable                     1   \n",
       "1122            ...                  injectable                     1   \n",
       "2937            ...                  injectable                     1   \n",
       "2932            ...                  injectable                     1   \n",
       "2898            ...                  injectable                     1   \n",
       "2896            ...                  injectable                     1   \n",
       "9534            ...                 intravenous                     0   \n",
       "9533            ...                 intravenous                     1   \n",
       "3226            ...                  injectable                     1   \n",
       "3224            ...                  injectable                     1   \n",
       "3353            ...                  injectable                     1   \n",
       "3354            ...                  injectable                     2   \n",
       "3352            ...                  injectable                     1   \n",
       "3356            ...                  injectable                     1   \n",
       "3792            ...                  injectable                     1   \n",
       "3791            ...                  injectable                     1   \n",
       "3212            ...                  injectable                     1   \n",
       "3208            ...                  injectable                     2   \n",
       "9678            ...                  injectable                     1   \n",
       "9677            ...                  injectable                     1   \n",
       "3237            ...                  injectable                     1   \n",
       "3238            ...                  injectable                     1   \n",
       "2651            ...                 intravenous                     1   \n",
       "2650            ...                 intravenous                     1   \n",
       "2750            ...                  injectable                     0   \n",
       "...             ...                         ...                   ...   \n",
       "10824           ...                  injectable                     0   \n",
       "10823           ...                  injectable                     0   \n",
       "4528            ...                  injectable                     1   \n",
       "4529            ...                  injectable                     0   \n",
       "3525            ...                 intravenous                     0   \n",
       "3524            ...                 intravenous                     1   \n",
       "3263            ...                  injectable                     1   \n",
       "3266            ...                  injectable                     1   \n",
       "3268            ...                  injectable                     1   \n",
       "3265            ...                  injectable                     1   \n",
       "4218            ...                  injectable                     1   \n",
       "4217            ...                  injectable                     1   \n",
       "4010            ...                 intravenous                     0   \n",
       "4011            ...                 intravenous                     1   \n",
       "10927           ...                 intravenous                     0   \n",
       "10926           ...                 intravenous                     0   \n",
       "4914            ...                  injectable                     1   \n",
       "4915            ...                  injectable                     2   \n",
       "13916           ...                 intravenous                     0   \n",
       "13915           ...                 intravenous                     0   \n",
       "13913           ...                 intravenous                     0   \n",
       "6294            ...                  injectable                     0   \n",
       "6293            ...                  injectable                     0   \n",
       "6296            ...                  injectable                     0   \n",
       "6295            ...                  injectable                     0   \n",
       "\n",
       "      stop_start_gap  UNIT_STRENGTH TOTAL_CONSUMED_STRENGTH  \n",
       "1121        0.000000         10.000                  40.000  \n",
       "1122        0.000000         10.000                  40.000  \n",
       "2937       78.116667         10.000                 300.000  \n",
       "2932       36.000000         10.000                 150.000  \n",
       "2898       30.000000         10.000                  50.000  \n",
       "2896        0.000000          2.000                   2.000  \n",
       "9534       30.700000        400.000                 400.000  \n",
       "9533        0.000000        400.000                 400.000  \n",
       "3226        0.000000          2.000                   2.000  \n",
       "3224       17.100000         10.000                 200.000  \n",
       "3353        0.000000          2.000                   2.000  \n",
       "3354       35.000000         10.000                 300.000  \n",
       "3352        0.000000          2.000                   2.000  \n",
       "3356       41.000000         10.000                 250.000  \n",
       "3792        0.200000          2.000                   2.000  \n",
       "3791        0.000000          2.000                   2.000  \n",
       "3212        0.000000          2.000                   2.000  \n",
       "3208       32.000000         10.000                 250.000  \n",
       "9678        0.000000         10.000                  10.000  \n",
       "9677        0.000000         10.000                  60.000  \n",
       "3237        0.000000          2.000                   2.000  \n",
       "3238       55.000000         10.000                 400.000  \n",
       "2651        0.000000        400.000                 400.000  \n",
       "2650        0.000000        400.000                 400.000  \n",
       "2750        0.000000         10.000                  20.000  \n",
       "...              ...            ...                     ...  \n",
       "10824       0.000000         10.000                  10.000  \n",
       "10823       0.000000          2.000                   2.000  \n",
       "4528        0.000000          2.000                   2.000  \n",
       "4529      101.633333         10.000                 300.000  \n",
       "3525      146.300000          4.000                  64.000  \n",
       "3524        0.000000          2.000                   4.000  \n",
       "3263       90.900000         10.000                1400.000  \n",
       "3266       -0.083333         10.000                 100.000  \n",
       "3268        0.000000          2.000                   4.000  \n",
       "3265        0.000000          2.000                   4.000  \n",
       "4218        0.000000          2.000                   4.000  \n",
       "4217       11.633333         10.000                 200.000  \n",
       "4010       22.916667        400.000                 800.000  \n",
       "4011        0.000000        400.000                 800.000  \n",
       "10927       0.000000          4.000                  56.000  \n",
       "10926       0.000000          4.000                  56.000  \n",
       "4914       10.850000       1200.000                9600.000  \n",
       "4915       10.850000         10.000                 480.000  \n",
       "13916       0.000000          0.415                   4.565  \n",
       "13915       0.000000          3.535                  38.885  \n",
       "13913       0.000000          1.290                  14.190  \n",
       "6294        0.000000         16.000                 128.000  \n",
       "6293        0.000000         16.000                 128.000  \n",
       "6296       45.466667         16.000                 128.000  \n",
       "6295       45.466667         16.000                 128.000  \n",
       "\n",
       "[107 rows x 45 columns]"
      ]
     },
     "execution_count": 17,
     "metadata": {},
     "output_type": "execute_result"
    }
   ],
   "source": [
    "# First extract the patients who has dulplicate medication time\n",
    "table_contains_same_med = one_type_treatment[\n",
    "        one_type_treatment['PATIENT_SK'].isin(time_diff_equal_0['PATIENT_SK'])]\n",
    "# the indicator of the dulplicate medication time\n",
    "indicator1 = table_contains_same_med.duplicated(\n",
    "        'MED_STARTED_DT_TM', keep=False)\n",
    "# Get the table of all the observations with same medication start time\n",
    "same_medstarttime = table_contains_same_med[indicator1]\n",
    "same_medstarttime"
   ]
  },
  {
   "cell_type": "markdown",
   "metadata": {},
   "source": [
    "Get the  table of all the observations with same medication start time of , dose information, but not considering medication enter time or stop time."
   ]
  },
  {
   "cell_type": "code",
   "execution_count": 18,
   "metadata": {},
   "outputs": [
    {
     "name": "stdout",
     "output_type": "stream",
     "text": [
      "The number of patients in this scenario: 42\n"
     ]
    }
   ],
   "source": [
    "indicator2 = table_contains_same_med.duplicated(\n",
    "        ['MED_STARTED_DT_TM', 'ORDER_STRENGTH', 'DOSE_QUANTITY',\n",
    "         'CONSUMED_QUANTITY'], keep=False)\n",
    "same_medstarttime_dose = table_contains_same_med[indicator2]\n",
    "print('The number of patients in this scenario: {}'.format(same_medstarttime_dose.shape[0]))"
   ]
  },
  {
   "cell_type": "markdown",
   "metadata": {},
   "source": [
    "See those observations with the difference of adjacent order time less than a threshold, say 20 minutes, but not including the 0"
   ]
  },
  {
   "cell_type": "code",
   "execution_count": 19,
   "metadata": {},
   "outputs": [
    {
     "data": {
      "text/plain": [
       "10-20 minutes    53\n",
       "5-10 minutes     52\n",
       "0-2 minutes      45\n",
       "2-5 minutes      35\n",
       "Name: order_time_diff, dtype: int64"
      ]
     },
     "execution_count": 19,
     "metadata": {},
     "output_type": "execute_result"
    }
   ],
   "source": [
    "bins1 = [0, 2/60, 5/60, 10/60, 20/60]\n",
    "time_interval1 = ['0-2 minutes', '2-5 minutes', '5-10 minutes',\n",
    "                  '10-20 minutes']\n",
    "cutted_time_diff1 = pd.cut(time_diff[\"order_time_diff\"], bins1,\n",
    "                           labels=time_interval1)\n",
    "cutted_time_diff1.value_counts()"
   ]
  },
  {
   "cell_type": "markdown",
   "metadata": {},
   "source": [
    "See those observations with the difference of adjacent medication time greater than a threshold, say 60 days"
   ]
  },
  {
   "cell_type": "code",
   "execution_count": 20,
   "metadata": {},
   "outputs": [
    {
     "data": {
      "text/html": [
       "<div>\n",
       "<style scoped>\n",
       "    .dataframe tbody tr th:only-of-type {\n",
       "        vertical-align: middle;\n",
       "    }\n",
       "\n",
       "    .dataframe tbody tr th {\n",
       "        vertical-align: top;\n",
       "    }\n",
       "\n",
       "    .dataframe thead th {\n",
       "        text-align: right;\n",
       "    }\n",
       "</style>\n",
       "<table border=\"1\" class=\"dataframe\">\n",
       "  <thead>\n",
       "    <tr style=\"text-align: right;\">\n",
       "      <th></th>\n",
       "      <th>NDC_CODE</th>\n",
       "      <th>DOSE_QUANTITY</th>\n",
       "      <th>CONSUMED_QUANTITY</th>\n",
       "      <th>TOTAL_DISPENSED_DOSES</th>\n",
       "      <th>ORDER_STRENGTH</th>\n",
       "      <th>ORDER_VOLUME</th>\n",
       "      <th>PRODUCT_STRENGTH_DESCRIPTION</th>\n",
       "      <th>ROUTE_DESCRIPTION</th>\n",
       "    </tr>\n",
       "  </thead>\n",
       "  <tbody>\n",
       "    <tr>\n",
       "      <th>11134</th>\n",
       "      <td>74144304</td>\n",
       "      <td>2</td>\n",
       "      <td>4</td>\n",
       "      <td>2</td>\n",
       "      <td>8.0</td>\n",
       "      <td>8.0</td>\n",
       "      <td>1 mg/ml</td>\n",
       "      <td>intravenous</td>\n",
       "    </tr>\n",
       "    <tr>\n",
       "      <th>11133</th>\n",
       "      <td>74144304</td>\n",
       "      <td>2</td>\n",
       "      <td>2</td>\n",
       "      <td>1</td>\n",
       "      <td>8.0</td>\n",
       "      <td>8.0</td>\n",
       "      <td>1 mg/ml</td>\n",
       "      <td>intravenous</td>\n",
       "    </tr>\n",
       "  </tbody>\n",
       "</table>\n",
       "</div>"
      ],
      "text/plain": [
       "       NDC_CODE  DOSE_QUANTITY  CONSUMED_QUANTITY  TOTAL_DISPENSED_DOSES  \\\n",
       "11134  74144304              2                  4                      2   \n",
       "11133  74144304              2                  2                      1   \n",
       "\n",
       "       ORDER_STRENGTH  ORDER_VOLUME PRODUCT_STRENGTH_DESCRIPTION  \\\n",
       "11134             8.0           8.0                      1 mg/ml   \n",
       "11133             8.0           8.0                      1 mg/ml   \n",
       "\n",
       "      ROUTE_DESCRIPTION  \n",
       "11134       intravenous  \n",
       "11133       intravenous  "
      ]
     },
     "execution_count": 20,
     "metadata": {},
     "output_type": "execute_result"
    }
   ],
   "source": [
    "time_diff_larger60d = time_diff.query('order_time_diff > 60*24')\n",
    "large_time_diff = one_type_treatment[one_type_treatment['PATIENT_SK'].isin(\n",
    "        time_diff_larger60d['PATIENT_SK'])]\n",
    "large_time_diff[['NDC_CODE', 'DOSE_QUANTITY', 'CONSUMED_QUANTITY',\n",
    "             'TOTAL_DISPENSED_DOSES', 'ORDER_STRENGTH', 'ORDER_VOLUME',\n",
    "             'PRODUCT_STRENGTH_DESCRIPTION', 'ROUTE_DESCRIPTION']]"
   ]
  },
  {
   "cell_type": "markdown",
   "metadata": {},
   "source": [
    "### Total consumed strength(of an order)"
   ]
  },
  {
   "cell_type": "code",
   "execution_count": 23,
   "metadata": {},
   "outputs": [
    {
     "data": {
      "text/plain": [
       "Text(0,0.5,'Counts of order')"
      ]
     },
     "execution_count": 23,
     "metadata": {},
     "output_type": "execute_result"
    },
    {
     "data": {
      "image/png": "[encoded data removed]",
      "text/plain": [
       "<Figure size 432x288 with 1 Axes>"
      ]
     },
     "metadata": {},
     "output_type": "display_data"
    }
   ],
   "source": [
    "one_type_treatment_valid_tcs['TOTAL_CONSUMED_STRENGTH'].describe()\n",
    "bins = [0, 100, 800, 2000, 20000, 100000, 414400]\n",
    "bins_counts_tcs = pd.cut(\n",
    "        one_type_treatment_valid_tcs['TOTAL_CONSUMED_STRENGTH'], bins)\n",
    "ax = pd.value_counts(bins_counts_tcs).plot(kind='bar')\n",
    "bar_annotation(ax)\n",
    "ax.set_xlabel('Total consumed strength(mg)')\n",
    "ax.set_ylabel('Counts of order')"
   ]
  },
  {
   "cell_type": "code",
   "execution_count": 25,
   "metadata": {},
   "outputs": [
    {
     "data": {
      "text/html": [
       "<div>\n",
       "<style scoped>\n",
       "    .dataframe tbody tr th:only-of-type {\n",
       "        vertical-align: middle;\n",
       "    }\n",
       "\n",
       "    .dataframe tbody tr th {\n",
       "        vertical-align: top;\n",
       "    }\n",
       "\n",
       "    .dataframe thead th {\n",
       "        text-align: right;\n",
       "    }\n",
       "</style>\n",
       "<table border=\"1\" class=\"dataframe\">\n",
       "  <thead>\n",
       "    <tr style=\"text-align: right;\">\n",
       "      <th></th>\n",
       "      <th>NDC_CODE</th>\n",
       "      <th>DOSE_QUANTITY</th>\n",
       "      <th>CONSUMED_QUANTITY</th>\n",
       "      <th>TOTAL_DISPENSED_DOSES</th>\n",
       "      <th>ORDER_STRENGTH</th>\n",
       "      <th>ORDER_VOLUME</th>\n",
       "      <th>PRODUCT_STRENGTH_DESCRIPTION</th>\n",
       "      <th>ROUTE_DESCRIPTION</th>\n",
       "    </tr>\n",
       "  </thead>\n",
       "  <tbody>\n",
       "    <tr>\n",
       "      <th>11122</th>\n",
       "      <td>74781022</td>\n",
       "      <td>1</td>\n",
       "      <td>140</td>\n",
       "      <td>70</td>\n",
       "      <td>800.0</td>\n",
       "      <td>10.0</td>\n",
       "      <td>5%-320 mg/100 ml</td>\n",
       "      <td>intravenous</td>\n",
       "    </tr>\n",
       "    <tr>\n",
       "      <th>10833</th>\n",
       "      <td>74781022</td>\n",
       "      <td>1</td>\n",
       "      <td>518</td>\n",
       "      <td>259</td>\n",
       "      <td>800.0</td>\n",
       "      <td>10.0</td>\n",
       "      <td>5%-320 mg/100 ml</td>\n",
       "      <td>intravenous</td>\n",
       "    </tr>\n",
       "    <tr>\n",
       "      <th>11288</th>\n",
       "      <td>74781022</td>\n",
       "      <td>1</td>\n",
       "      <td>168</td>\n",
       "      <td>84</td>\n",
       "      <td>800.0</td>\n",
       "      <td>10.0</td>\n",
       "      <td>5%-320 mg/100 ml</td>\n",
       "      <td>intravenous</td>\n",
       "    </tr>\n",
       "    <tr>\n",
       "      <th>10332</th>\n",
       "      <td>74781022</td>\n",
       "      <td>1</td>\n",
       "      <td>252</td>\n",
       "      <td>126</td>\n",
       "      <td>800.0</td>\n",
       "      <td>10.0</td>\n",
       "      <td>5%-320 mg/100 ml</td>\n",
       "      <td>intravenous</td>\n",
       "    </tr>\n",
       "    <tr>\n",
       "      <th>4889</th>\n",
       "      <td>74426501</td>\n",
       "      <td>1</td>\n",
       "      <td>144</td>\n",
       "      <td>72</td>\n",
       "      <td>800.0</td>\n",
       "      <td>5.0</td>\n",
       "      <td>80 mg/ml</td>\n",
       "      <td>intravenous</td>\n",
       "    </tr>\n",
       "    <tr>\n",
       "      <th>1903</th>\n",
       "      <td>338100902</td>\n",
       "      <td>1</td>\n",
       "      <td>203</td>\n",
       "      <td>203</td>\n",
       "      <td>800.0</td>\n",
       "      <td>250.0</td>\n",
       "      <td>5%-320 mg/100 ml</td>\n",
       "      <td>intravenous</td>\n",
       "    </tr>\n",
       "  </tbody>\n",
       "</table>\n",
       "</div>"
      ],
      "text/plain": [
       "        NDC_CODE  DOSE_QUANTITY  CONSUMED_QUANTITY  TOTAL_DISPENSED_DOSES  \\\n",
       "11122   74781022              1                140                     70   \n",
       "10833   74781022              1                518                    259   \n",
       "11288   74781022              1                168                     84   \n",
       "10332   74781022              1                252                    126   \n",
       "4889    74426501              1                144                     72   \n",
       "1903   338100902              1                203                    203   \n",
       "\n",
       "       ORDER_STRENGTH  ORDER_VOLUME PRODUCT_STRENGTH_DESCRIPTION  \\\n",
       "11122           800.0          10.0             5%-320 mg/100 ml   \n",
       "10833           800.0          10.0             5%-320 mg/100 ml   \n",
       "11288           800.0          10.0             5%-320 mg/100 ml   \n",
       "10332           800.0          10.0             5%-320 mg/100 ml   \n",
       "4889            800.0           5.0                     80 mg/ml   \n",
       "1903            800.0         250.0             5%-320 mg/100 ml   \n",
       "\n",
       "      ROUTE_DESCRIPTION  \n",
       "11122       intravenous  \n",
       "10833       intravenous  \n",
       "11288       intravenous  \n",
       "10332       intravenous  \n",
       "4889        intravenous  \n",
       "1903        intravenous  "
      ]
     },
     "execution_count": 25,
     "metadata": {},
     "output_type": "execute_result"
    }
   ],
   "source": [
    "one_type_treatment_valid_tcs_max = one_type_treatment_valid_tcs.query(\n",
    "        'TOTAL_CONSUMED_STRENGTH>100000')\n",
    "one_type_treatment_valid_tcs_max[['NDC_CODE', 'DOSE_QUANTITY', 'CONSUMED_QUANTITY',\n",
    "             'TOTAL_DISPENSED_DOSES', 'ORDER_STRENGTH', 'ORDER_VOLUME',\n",
    "             'PRODUCT_STRENGTH_DESCRIPTION', 'ROUTE_DESCRIPTION']]\n"
   ]
  },
  {
   "cell_type": "markdown",
   "metadata": {},
   "source": [
    "### Consumed quantity(of an order)"
   ]
  },
  {
   "cell_type": "code",
   "execution_count": 26,
   "metadata": {},
   "outputs": [
    {
     "data": {
      "text/plain": [
       "<matplotlib.axes._subplots.AxesSubplot at 0x29f925ce2e8>"
      ]
     },
     "execution_count": 26,
     "metadata": {},
     "output_type": "execute_result"
    },
    {
     "data": {
      "image/png": "[encoded data removed]",
      "text/plain": [
       "<Figure size 432x288 with 1 Axes>"
      ]
     },
     "metadata": {},
     "output_type": "display_data"
    }
   ],
   "source": [
    "one_type_treatment_valid_tcs['CONSUMED_QUANTITY'].describe()\n",
    "sns.boxplot(one_type_treatment_valid_tcs['CONSUMED_QUANTITY'])"
   ]
  },
  {
   "cell_type": "code",
   "execution_count": 27,
   "metadata": {},
   "outputs": [
    {
     "data": {
      "text/plain": [
       "Text(0,0.5,'Counts of patients')"
      ]
     },
     "execution_count": 27,
     "metadata": {},
     "output_type": "execute_result"
    },
    {
     "data": {
      "image/png": "[encoded data removed]",
      "text/plain": [
       "<Figure size 432x288 with 1 Axes>"
      ]
     },
     "metadata": {},
     "output_type": "display_data"
    }
   ],
   "source": [
    "ax = one_type_treatment_valid_tcs['CONSUMED_QUANTITY'].hist(bins=100)\n",
    "ax.set_xlabel('Consumed quantity')\n",
    "ax.set_ylabel('Counts of order')"
   ]
  },
  {
   "cell_type": "markdown",
   "metadata": {},
   "source": [
    "Take deeper look at those orders whose consumed quantity is larger than 500"
   ]
  },
  {
   "cell_type": "code",
   "execution_count": 28,
   "metadata": {},
   "outputs": [
    {
     "data": {
      "text/plain": [
       "count     32.000000\n",
       "mean      33.260417\n",
       "std      140.273152\n",
       "min        4.000000\n",
       "25%        4.000000\n",
       "50%        4.000000\n",
       "75%       10.000000\n",
       "max      800.000000\n",
       "Name: UNIT_STRENGTH, dtype: float64"
      ]
     },
     "execution_count": 28,
     "metadata": {},
     "output_type": "execute_result"
    }
   ],
   "source": [
    "one_type_treatment_valid_tcs_cqmax = one_type_treatment_valid_tcs.query(\n",
    "        'CONSUMED_QUANTITY>500')\n",
    "one_type_treatment_valid_tcs_cqmax['UNIT_STRENGTH'].describe()"
   ]
  },
  {
   "cell_type": "code",
   "execution_count": 29,
   "metadata": {},
   "outputs": [
    {
     "data": {
      "text/plain": [
       "<matplotlib.axes._subplots.AxesSubplot at 0x29f925afa20>"
      ]
     },
     "execution_count": 29,
     "metadata": {},
     "output_type": "execute_result"
    },
    {
     "data": {
      "image/png": "[encoded data removed]",
      "text/plain": [
       "<Figure size 432x288 with 1 Axes>"
      ]
     },
     "metadata": {},
     "output_type": "display_data"
    }
   ],
   "source": [
    "sns.boxplot(one_type_treatment_valid_tcs_cqmax['UNIT_STRENGTH'])"
   ]
  },
  {
   "cell_type": "markdown",
   "metadata": {},
   "source": [
    "### Unit strength"
   ]
  },
  {
   "cell_type": "code",
   "execution_count": 30,
   "metadata": {},
   "outputs": [
    {
     "data": {
      "text/plain": [
       "count    3309.000000\n",
       "mean      135.255447\n",
       "std       254.992467\n",
       "min         0.050000\n",
       "25%         4.000000\n",
       "50%        10.000000\n",
       "75%        50.000000\n",
       "max      1200.000000\n",
       "Name: UNIT_STRENGTH, dtype: float64"
      ]
     },
     "execution_count": 30,
     "metadata": {},
     "output_type": "execute_result"
    }
   ],
   "source": [
    "one_type_treatment_valid_tcs['UNIT_STRENGTH'].describe()"
   ]
  },
  {
   "cell_type": "markdown",
   "metadata": {},
   "source": [
    "Unit strength is equal or greater than 800"
   ]
  },
  {
   "cell_type": "code",
   "execution_count": 31,
   "metadata": {},
   "outputs": [],
   "source": [
    "one_type_treatment_valid_tcs_us800 = one_type_treatment_valid_tcs.query(\n",
    "        'UNIT_STRENGTH>=800')"
   ]
  },
  {
   "cell_type": "code",
   "execution_count": 32,
   "metadata": {},
   "outputs": [
    {
     "data": {
      "text/plain": [
       "count    337.000000\n",
       "mean      11.510386\n",
       "std       37.676814\n",
       "min        1.000000\n",
       "25%        1.000000\n",
       "50%        3.000000\n",
       "75%        7.000000\n",
       "max      518.000000\n",
       "Name: CONSUMED_QUANTITY, dtype: float64"
      ]
     },
     "execution_count": 32,
     "metadata": {},
     "output_type": "execute_result"
    }
   ],
   "source": [
    "one_type_treatment_valid_tcs_us800['CONSUMED_QUANTITY'].describe()"
   ]
  },
  {
   "cell_type": "code",
   "execution_count": 33,
   "metadata": {},
   "outputs": [
    {
     "data": {
      "text/plain": [
       "<matplotlib.axes._subplots.AxesSubplot at 0x29f92889550>"
      ]
     },
     "execution_count": 33,
     "metadata": {},
     "output_type": "execute_result"
    },
    {
     "data": {
      "image/png": "[encoded data removed]",
      "text/plain": [
       "<Figure size 432x288 with 1 Axes>"
      ]
     },
     "metadata": {},
     "output_type": "display_data"
    }
   ],
   "source": [
    "sns.boxplot(one_type_treatment_valid_tcs_us800['CONSUMED_QUANTITY'])"
   ]
  },
  {
   "cell_type": "code",
   "execution_count": null,
   "metadata": {},
   "outputs": [],
   "source": [
    "\n"
   ]
  },
  {
   "cell_type": "markdown",
   "metadata": {},
   "source": [
    "### Combine Diastolic blood pressure and medication"
   ]
  },
  {
   "cell_type": "markdown",
   "metadata": {},
   "source": [
    "#### Diastolic blood pressure"
   ]
  },
  {
   "cell_type": "code",
   "execution_count": 35,
   "metadata": {},
   "outputs": [],
   "source": [
    "Diastolic_BP = pd.read_csv(root_dir+'/vital_sign/Diastolic_BP.csv')"
   ]
  },
  {
   "cell_type": "code",
   "execution_count": 36,
   "metadata": {},
   "outputs": [
    {
     "data": {
      "text/plain": [
       "<matplotlib.axes._subplots.AxesSubplot at 0x29f928cfbe0>"
      ]
     },
     "execution_count": 36,
     "metadata": {},
     "output_type": "execute_result"
    },
    {
     "data": {
      "image/png": "[encoded data removed]",
      "text/plain": [
       "<Figure size 432x288 with 1 Axes>"
      ]
     },
     "metadata": {},
     "output_type": "display_data"
    }
   ],
   "source": [
    "sns.boxplot(Diastolic_BP['RESULT_VALUE_NUM'])"
   ]
  },
  {
   "cell_type": "code",
   "execution_count": 38,
   "metadata": {},
   "outputs": [
    {
     "data": {
      "text/plain": [
       "Text(0,0.5,'Counts')"
      ]
     },
     "execution_count": 38,
     "metadata": {},
     "output_type": "execute_result"
    },
    {
     "data": {
      "image/png": "[encoded data removed]",
      "text/plain": [
       "<Figure size 432x288 with 1 Axes>"
      ]
     },
     "metadata": {},
     "output_type": "display_data"
    }
   ],
   "source": [
    "ax = Diastolic_BP['RESULT_VALUE_NUM'].plot.hist()\n",
    "ax.set_xlabel('Diastolic blood pressure')\n",
    "ax.set_ylabel('Counts')"
   ]
  },
  {
   "cell_type": "code",
   "execution_count": 39,
   "metadata": {},
   "outputs": [],
   "source": [
    "Diastolic_BP = Diastolic_BP.drop('PATIENT_ID', 1)\n",
    "Diastolic_BP['EVENT_DATE'] = pd.to_datetime(Diastolic_BP['EVENT_DATE'])\n",
    "# Merge the Diastolic_BP with patient level table\n",
    "Diastolic_BP = pd.merge(Diastolic_BP,\n",
    "                        pat_enc_final[['PATIENT_SK', 'ENCOUNTER_ID']],\n",
    "                        how='inner', on='ENCOUNTER_ID')"
   ]
  },
  {
   "cell_type": "markdown",
   "metadata": {},
   "source": [
    "Among the 1839 patients, see how many have blood pressure."
   ]
  },
  {
   "cell_type": "code",
   "execution_count": 84,
   "metadata": {},
   "outputs": [
    {
     "name": "stdout",
     "output_type": "stream",
     "text": [
      "The number of patients who only received one type of treatment,  with total consumed strength of the medication order > 0      and have blood pressure values: \n",
      "467.\n"
     ]
    }
   ],
   "source": [
    "Diastolic_BP = Diastolic_BP.sort_values(by=['PATIENT_SK', 'EVENT_DATE'])\n",
    "one_type_treatment_patsk = one_type_treatment_valid_tcs['PATIENT_SK'].unique()\n",
    "valid_pat_sk_indc = np.in1d(\n",
    "        one_type_treatment_patsk, Diastolic_BP['PATIENT_SK'].unique())\n",
    "valid_pat_sk = one_type_treatment_patsk[valid_pat_sk_indc]\n",
    "print('The number of patients who only received one type of treatment,  with total consumed strength of the medication order > 0\\\n",
    "      and have blood pressure values: \\n{}.'.format(\n",
    "valid_pat_sk.shape[0]))"
   ]
  },
  {
   "cell_type": "code",
   "execution_count": 61,
   "metadata": {},
   "outputs": [],
   "source": [
    "# Indicator of useful patient sks\n",
    "ind_treat = one_type_treatment_valid_tcs['PATIENT_SK'].isin(valid_pat_sk)\n",
    "one_type_treat_have_validbp = one_type_treatment_valid_tcs[ind_treat]\n",
    "ind_bp = Diastolic_BP['PATIENT_SK'].isin(valid_pat_sk)\n",
    "diastolic_valid_bp = Diastolic_BP[ind_bp]"
   ]
  },
  {
   "cell_type": "markdown",
   "metadata": {},
   "source": [
    "##### Basic summary of measurement times of diastolic blood pressure"
   ]
  },
  {
   "cell_type": "markdown",
   "metadata": {},
   "source": [
    "Measurement times  per patient"
   ]
  },
  {
   "cell_type": "code",
   "execution_count": 62,
   "metadata": {},
   "outputs": [
    {
     "data": {
      "text/plain": [
       "count     467.000000\n",
       "mean      304.967880\n",
       "std       342.057121\n",
       "min         1.000000\n",
       "25%        48.000000\n",
       "50%       181.000000\n",
       "75%       473.000000\n",
       "max      2229.000000\n",
       "dtype: float64"
      ]
     },
     "execution_count": 62,
     "metadata": {},
     "output_type": "execute_result"
    }
   ],
   "source": [
    "diastolic_valid_bp_grpby_pat = diastolic_valid_bp.groupby(['PATIENT_SK'])\n",
    "meas_per_patient = diastolic_valid_bp_grpby_pat.size()\n",
    "meas_per_patient.describe()"
   ]
  },
  {
   "cell_type": "code",
   "execution_count": 63,
   "metadata": {},
   "outputs": [
    {
     "data": {
      "text/plain": [
       "<matplotlib.axes._subplots.AxesSubplot at 0x29f92b06898>"
      ]
     },
     "execution_count": 63,
     "metadata": {},
     "output_type": "execute_result"
    },
    {
     "data": {
      "image/png": "[encoded data removed]",
      "text/plain": [
       "<Figure size 432x288 with 1 Axes>"
      ]
     },
     "metadata": {},
     "output_type": "display_data"
    }
   ],
   "source": [
    "sns.boxplot(meas_per_patient)"
   ]
  },
  {
   "cell_type": "code",
   "execution_count": 65,
   "metadata": {},
   "outputs": [
    {
     "data": {
      "text/plain": [
       "Text(0,0.5,'Counts of patients')"
      ]
     },
     "execution_count": 65,
     "metadata": {},
     "output_type": "execute_result"
    },
    {
     "data": {
      "image/png": "[encoded data removed]",
      "text/plain": [
       "<Figure size 432x288 with 1 Axes>"
      ]
     },
     "metadata": {},
     "output_type": "display_data"
    }
   ],
   "source": [
    "ax = meas_per_patient.plot.hist(bins=100)\n",
    "ax.set_xlabel('Measurement times per patient')\n",
    "ax.set_ylabel('Counts of patients')"
   ]
  },
  {
   "cell_type": "markdown",
   "metadata": {},
   "source": [
    "Check the maxmium measurement times 2229"
   ]
  },
  {
   "cell_type": "code",
   "execution_count": 67,
   "metadata": {},
   "outputs": [
    {
     "data": {
      "text/html": [
       "<div>\n",
       "<style scoped>\n",
       "    .dataframe tbody tr th:only-of-type {\n",
       "        vertical-align: middle;\n",
       "    }\n",
       "\n",
       "    .dataframe tbody tr th {\n",
       "        vertical-align: top;\n",
       "    }\n",
       "\n",
       "    .dataframe thead th {\n",
       "        text-align: right;\n",
       "    }\n",
       "</style>\n",
       "<table border=\"1\" class=\"dataframe\">\n",
       "  <thead>\n",
       "    <tr style=\"text-align: right;\">\n",
       "      <th></th>\n",
       "      <th>ENCOUNTER_ID</th>\n",
       "      <th>RESULT_VALUE_NUM</th>\n",
       "      <th>EVENT_DATE</th>\n",
       "      <th>PATIENT_SK</th>\n",
       "    </tr>\n",
       "  </thead>\n",
       "  <tbody>\n",
       "    <tr>\n",
       "      <th>615200</th>\n",
       "      <td>250346176</td>\n",
       "      <td>82</td>\n",
       "      <td>2013-03-17 20:00:00</td>\n",
       "      <td>15157186</td>\n",
       "    </tr>\n",
       "    <tr>\n",
       "      <th>615201</th>\n",
       "      <td>250346176</td>\n",
       "      <td>95</td>\n",
       "      <td>2013-02-10 14:45:00</td>\n",
       "      <td>15157186</td>\n",
       "    </tr>\n",
       "    <tr>\n",
       "      <th>615202</th>\n",
       "      <td>250346176</td>\n",
       "      <td>78</td>\n",
       "      <td>2013-03-19 17:00:00</td>\n",
       "      <td>15157186</td>\n",
       "    </tr>\n",
       "    <tr>\n",
       "      <th>615203</th>\n",
       "      <td>250346176</td>\n",
       "      <td>73</td>\n",
       "      <td>2013-03-16 02:00:00</td>\n",
       "      <td>15157186</td>\n",
       "    </tr>\n",
       "    <tr>\n",
       "      <th>615204</th>\n",
       "      <td>250346176</td>\n",
       "      <td>79</td>\n",
       "      <td>2013-03-07 06:00:00</td>\n",
       "      <td>15157186</td>\n",
       "    </tr>\n",
       "    <tr>\n",
       "      <th>615205</th>\n",
       "      <td>250346176</td>\n",
       "      <td>63</td>\n",
       "      <td>2013-03-12 20:00:00</td>\n",
       "      <td>15157186</td>\n",
       "    </tr>\n",
       "    <tr>\n",
       "      <th>615206</th>\n",
       "      <td>250346176</td>\n",
       "      <td>89</td>\n",
       "      <td>2013-02-21 05:00:00</td>\n",
       "      <td>15157186</td>\n",
       "    </tr>\n",
       "    <tr>\n",
       "      <th>615207</th>\n",
       "      <td>250346176</td>\n",
       "      <td>106</td>\n",
       "      <td>2013-02-09 13:00:00</td>\n",
       "      <td>15157186</td>\n",
       "    </tr>\n",
       "    <tr>\n",
       "      <th>615208</th>\n",
       "      <td>250346176</td>\n",
       "      <td>78</td>\n",
       "      <td>2013-03-01 07:30:00</td>\n",
       "      <td>15157186</td>\n",
       "    </tr>\n",
       "    <tr>\n",
       "      <th>615209</th>\n",
       "      <td>250346176</td>\n",
       "      <td>72</td>\n",
       "      <td>2013-02-27 18:15:00</td>\n",
       "      <td>15157186</td>\n",
       "    </tr>\n",
       "    <tr>\n",
       "      <th>615210</th>\n",
       "      <td>250346176</td>\n",
       "      <td>82</td>\n",
       "      <td>2013-02-22 11:00:00</td>\n",
       "      <td>15157186</td>\n",
       "    </tr>\n",
       "    <tr>\n",
       "      <th>615211</th>\n",
       "      <td>250346176</td>\n",
       "      <td>80</td>\n",
       "      <td>2013-02-12 04:45:00</td>\n",
       "      <td>15157186</td>\n",
       "    </tr>\n",
       "    <tr>\n",
       "      <th>615212</th>\n",
       "      <td>250346176</td>\n",
       "      <td>93</td>\n",
       "      <td>2013-02-23 02:00:00</td>\n",
       "      <td>15157186</td>\n",
       "    </tr>\n",
       "    <tr>\n",
       "      <th>615213</th>\n",
       "      <td>250346176</td>\n",
       "      <td>91</td>\n",
       "      <td>2013-02-11 17:15:00</td>\n",
       "      <td>15157186</td>\n",
       "    </tr>\n",
       "    <tr>\n",
       "      <th>615214</th>\n",
       "      <td>250346176</td>\n",
       "      <td>95</td>\n",
       "      <td>2013-03-14 12:00:00</td>\n",
       "      <td>15157186</td>\n",
       "    </tr>\n",
       "    <tr>\n",
       "      <th>615215</th>\n",
       "      <td>250346176</td>\n",
       "      <td>95</td>\n",
       "      <td>2013-02-13 17:15:00</td>\n",
       "      <td>15157186</td>\n",
       "    </tr>\n",
       "    <tr>\n",
       "      <th>615216</th>\n",
       "      <td>250346176</td>\n",
       "      <td>101</td>\n",
       "      <td>2013-02-10 06:45:00</td>\n",
       "      <td>15157186</td>\n",
       "    </tr>\n",
       "    <tr>\n",
       "      <th>615217</th>\n",
       "      <td>250346176</td>\n",
       "      <td>92</td>\n",
       "      <td>2013-02-13 15:30:00</td>\n",
       "      <td>15157186</td>\n",
       "    </tr>\n",
       "    <tr>\n",
       "      <th>615218</th>\n",
       "      <td>250346176</td>\n",
       "      <td>90</td>\n",
       "      <td>2013-02-14 00:30:00</td>\n",
       "      <td>15157186</td>\n",
       "    </tr>\n",
       "    <tr>\n",
       "      <th>615219</th>\n",
       "      <td>250346176</td>\n",
       "      <td>88</td>\n",
       "      <td>2013-02-18 18:15:00</td>\n",
       "      <td>15157186</td>\n",
       "    </tr>\n",
       "    <tr>\n",
       "      <th>615220</th>\n",
       "      <td>250346176</td>\n",
       "      <td>66</td>\n",
       "      <td>2013-03-02 21:15:00</td>\n",
       "      <td>15157186</td>\n",
       "    </tr>\n",
       "    <tr>\n",
       "      <th>615221</th>\n",
       "      <td>250346176</td>\n",
       "      <td>62</td>\n",
       "      <td>2013-03-02 21:45:00</td>\n",
       "      <td>15157186</td>\n",
       "    </tr>\n",
       "    <tr>\n",
       "      <th>615222</th>\n",
       "      <td>250346176</td>\n",
       "      <td>80</td>\n",
       "      <td>2013-02-23 10:00:00</td>\n",
       "      <td>15157186</td>\n",
       "    </tr>\n",
       "    <tr>\n",
       "      <th>615223</th>\n",
       "      <td>250346176</td>\n",
       "      <td>84</td>\n",
       "      <td>2013-02-22 22:00:00</td>\n",
       "      <td>15157186</td>\n",
       "    </tr>\n",
       "    <tr>\n",
       "      <th>615224</th>\n",
       "      <td>250346176</td>\n",
       "      <td>75</td>\n",
       "      <td>2013-02-27 16:15:00</td>\n",
       "      <td>15157186</td>\n",
       "    </tr>\n",
       "    <tr>\n",
       "      <th>...</th>\n",
       "      <td>...</td>\n",
       "      <td>...</td>\n",
       "      <td>...</td>\n",
       "      <td>...</td>\n",
       "    </tr>\n",
       "    <tr>\n",
       "      <th>617404</th>\n",
       "      <td>250346176</td>\n",
       "      <td>116</td>\n",
       "      <td>2013-02-23 11:30:00</td>\n",
       "      <td>15157186</td>\n",
       "    </tr>\n",
       "    <tr>\n",
       "      <th>617405</th>\n",
       "      <td>250346176</td>\n",
       "      <td>91</td>\n",
       "      <td>2013-02-14 15:15:00</td>\n",
       "      <td>15157186</td>\n",
       "    </tr>\n",
       "    <tr>\n",
       "      <th>617406</th>\n",
       "      <td>250346176</td>\n",
       "      <td>89</td>\n",
       "      <td>2013-02-11 06:00:00</td>\n",
       "      <td>15157186</td>\n",
       "    </tr>\n",
       "    <tr>\n",
       "      <th>617407</th>\n",
       "      <td>250346176</td>\n",
       "      <td>78</td>\n",
       "      <td>2013-03-01 23:30:00</td>\n",
       "      <td>15157186</td>\n",
       "    </tr>\n",
       "    <tr>\n",
       "      <th>617408</th>\n",
       "      <td>250346176</td>\n",
       "      <td>96</td>\n",
       "      <td>2013-02-09 15:15:00</td>\n",
       "      <td>15157186</td>\n",
       "    </tr>\n",
       "    <tr>\n",
       "      <th>617409</th>\n",
       "      <td>250346176</td>\n",
       "      <td>87</td>\n",
       "      <td>2013-02-11 15:15:00</td>\n",
       "      <td>15157186</td>\n",
       "    </tr>\n",
       "    <tr>\n",
       "      <th>617410</th>\n",
       "      <td>250346176</td>\n",
       "      <td>74</td>\n",
       "      <td>2013-03-13 18:00:00</td>\n",
       "      <td>15157186</td>\n",
       "    </tr>\n",
       "    <tr>\n",
       "      <th>617411</th>\n",
       "      <td>250346176</td>\n",
       "      <td>91</td>\n",
       "      <td>2013-02-14 21:15:00</td>\n",
       "      <td>15157186</td>\n",
       "    </tr>\n",
       "    <tr>\n",
       "      <th>617412</th>\n",
       "      <td>250346176</td>\n",
       "      <td>98</td>\n",
       "      <td>2013-03-05 15:00:00</td>\n",
       "      <td>15157186</td>\n",
       "    </tr>\n",
       "    <tr>\n",
       "      <th>617413</th>\n",
       "      <td>250346176</td>\n",
       "      <td>97</td>\n",
       "      <td>2013-02-13 17:45:00</td>\n",
       "      <td>15157186</td>\n",
       "    </tr>\n",
       "    <tr>\n",
       "      <th>617414</th>\n",
       "      <td>250346176</td>\n",
       "      <td>68</td>\n",
       "      <td>2013-03-02 12:30:00</td>\n",
       "      <td>15157186</td>\n",
       "    </tr>\n",
       "    <tr>\n",
       "      <th>617415</th>\n",
       "      <td>250346176</td>\n",
       "      <td>87</td>\n",
       "      <td>2013-02-08 16:45:00</td>\n",
       "      <td>15157186</td>\n",
       "    </tr>\n",
       "    <tr>\n",
       "      <th>617416</th>\n",
       "      <td>250346176</td>\n",
       "      <td>42</td>\n",
       "      <td>2013-04-03 08:35:00</td>\n",
       "      <td>15157186</td>\n",
       "    </tr>\n",
       "    <tr>\n",
       "      <th>617417</th>\n",
       "      <td>250346176</td>\n",
       "      <td>85</td>\n",
       "      <td>2013-02-03 20:30:00</td>\n",
       "      <td>15157186</td>\n",
       "    </tr>\n",
       "    <tr>\n",
       "      <th>617418</th>\n",
       "      <td>250346176</td>\n",
       "      <td>60</td>\n",
       "      <td>2013-03-01 14:15:00</td>\n",
       "      <td>15157186</td>\n",
       "    </tr>\n",
       "    <tr>\n",
       "      <th>617419</th>\n",
       "      <td>250346176</td>\n",
       "      <td>76</td>\n",
       "      <td>2013-02-05 19:00:00</td>\n",
       "      <td>15157186</td>\n",
       "    </tr>\n",
       "    <tr>\n",
       "      <th>617420</th>\n",
       "      <td>250346176</td>\n",
       "      <td>100</td>\n",
       "      <td>2013-03-06 12:00:00</td>\n",
       "      <td>15157186</td>\n",
       "    </tr>\n",
       "    <tr>\n",
       "      <th>617421</th>\n",
       "      <td>250346176</td>\n",
       "      <td>92</td>\n",
       "      <td>2013-02-18 02:45:00</td>\n",
       "      <td>15157186</td>\n",
       "    </tr>\n",
       "    <tr>\n",
       "      <th>617422</th>\n",
       "      <td>250346176</td>\n",
       "      <td>78</td>\n",
       "      <td>2013-03-01 12:45:00</td>\n",
       "      <td>15157186</td>\n",
       "    </tr>\n",
       "    <tr>\n",
       "      <th>617423</th>\n",
       "      <td>250346176</td>\n",
       "      <td>91</td>\n",
       "      <td>2013-02-14 08:30:00</td>\n",
       "      <td>15157186</td>\n",
       "    </tr>\n",
       "    <tr>\n",
       "      <th>617424</th>\n",
       "      <td>250346176</td>\n",
       "      <td>66</td>\n",
       "      <td>2013-04-01 00:00:00</td>\n",
       "      <td>15157186</td>\n",
       "    </tr>\n",
       "    <tr>\n",
       "      <th>617425</th>\n",
       "      <td>250346176</td>\n",
       "      <td>88</td>\n",
       "      <td>2013-02-17 21:30:00</td>\n",
       "      <td>15157186</td>\n",
       "    </tr>\n",
       "    <tr>\n",
       "      <th>617426</th>\n",
       "      <td>250346176</td>\n",
       "      <td>42</td>\n",
       "      <td>2013-04-07 20:00:00</td>\n",
       "      <td>15157186</td>\n",
       "    </tr>\n",
       "    <tr>\n",
       "      <th>617427</th>\n",
       "      <td>250346176</td>\n",
       "      <td>91</td>\n",
       "      <td>2013-02-10 07:30:00</td>\n",
       "      <td>15157186</td>\n",
       "    </tr>\n",
       "    <tr>\n",
       "      <th>617428</th>\n",
       "      <td>250346176</td>\n",
       "      <td>100</td>\n",
       "      <td>2013-02-14 05:00:00</td>\n",
       "      <td>15157186</td>\n",
       "    </tr>\n",
       "  </tbody>\n",
       "</table>\n",
       "<p>2229 rows × 4 columns</p>\n",
       "</div>"
      ],
      "text/plain": [
       "        ENCOUNTER_ID  RESULT_VALUE_NUM          EVENT_DATE  PATIENT_SK\n",
       "615200     250346176                82 2013-03-17 20:00:00    15157186\n",
       "615201     250346176                95 2013-02-10 14:45:00    15157186\n",
       "615202     250346176                78 2013-03-19 17:00:00    15157186\n",
       "615203     250346176                73 2013-03-16 02:00:00    15157186\n",
       "615204     250346176                79 2013-03-07 06:00:00    15157186\n",
       "615205     250346176                63 2013-03-12 20:00:00    15157186\n",
       "615206     250346176                89 2013-02-21 05:00:00    15157186\n",
       "615207     250346176               106 2013-02-09 13:00:00    15157186\n",
       "615208     250346176                78 2013-03-01 07:30:00    15157186\n",
       "615209     250346176                72 2013-02-27 18:15:00    15157186\n",
       "615210     250346176                82 2013-02-22 11:00:00    15157186\n",
       "615211     250346176                80 2013-02-12 04:45:00    15157186\n",
       "615212     250346176                93 2013-02-23 02:00:00    15157186\n",
       "615213     250346176                91 2013-02-11 17:15:00    15157186\n",
       "615214     250346176                95 2013-03-14 12:00:00    15157186\n",
       "615215     250346176                95 2013-02-13 17:15:00    15157186\n",
       "615216     250346176               101 2013-02-10 06:45:00    15157186\n",
       "615217     250346176                92 2013-02-13 15:30:00    15157186\n",
       "615218     250346176                90 2013-02-14 00:30:00    15157186\n",
       "615219     250346176                88 2013-02-18 18:15:00    15157186\n",
       "615220     250346176                66 2013-03-02 21:15:00    15157186\n",
       "615221     250346176                62 2013-03-02 21:45:00    15157186\n",
       "615222     250346176                80 2013-02-23 10:00:00    15157186\n",
       "615223     250346176                84 2013-02-22 22:00:00    15157186\n",
       "615224     250346176                75 2013-02-27 16:15:00    15157186\n",
       "...              ...               ...                 ...         ...\n",
       "617404     250346176               116 2013-02-23 11:30:00    15157186\n",
       "617405     250346176                91 2013-02-14 15:15:00    15157186\n",
       "617406     250346176                89 2013-02-11 06:00:00    15157186\n",
       "617407     250346176                78 2013-03-01 23:30:00    15157186\n",
       "617408     250346176                96 2013-02-09 15:15:00    15157186\n",
       "617409     250346176                87 2013-02-11 15:15:00    15157186\n",
       "617410     250346176                74 2013-03-13 18:00:00    15157186\n",
       "617411     250346176                91 2013-02-14 21:15:00    15157186\n",
       "617412     250346176                98 2013-03-05 15:00:00    15157186\n",
       "617413     250346176                97 2013-02-13 17:45:00    15157186\n",
       "617414     250346176                68 2013-03-02 12:30:00    15157186\n",
       "617415     250346176                87 2013-02-08 16:45:00    15157186\n",
       "617416     250346176                42 2013-04-03 08:35:00    15157186\n",
       "617417     250346176                85 2013-02-03 20:30:00    15157186\n",
       "617418     250346176                60 2013-03-01 14:15:00    15157186\n",
       "617419     250346176                76 2013-02-05 19:00:00    15157186\n",
       "617420     250346176               100 2013-03-06 12:00:00    15157186\n",
       "617421     250346176                92 2013-02-18 02:45:00    15157186\n",
       "617422     250346176                78 2013-03-01 12:45:00    15157186\n",
       "617423     250346176                91 2013-02-14 08:30:00    15157186\n",
       "617424     250346176                66 2013-04-01 00:00:00    15157186\n",
       "617425     250346176                88 2013-02-17 21:30:00    15157186\n",
       "617426     250346176                42 2013-04-07 20:00:00    15157186\n",
       "617427     250346176                91 2013-02-10 07:30:00    15157186\n",
       "617428     250346176               100 2013-02-14 05:00:00    15157186\n",
       "\n",
       "[2229 rows x 4 columns]"
      ]
     },
     "execution_count": 67,
     "metadata": {},
     "output_type": "execute_result"
    }
   ],
   "source": [
    "max_meas_index = meas_per_patient.idxmax()\n",
    "max_meas_detail = diastolic_valid_bp[\n",
    "        diastolic_valid_bp['PATIENT_SK'] == max_meas_index]\n",
    "max_meas_detail"
   ]
  },
  {
   "cell_type": "markdown",
   "metadata": {},
   "source": [
    "#### Systolic blood pressure"
   ]
  },
  {
   "cell_type": "code",
   "execution_count": 91,
   "metadata": {},
   "outputs": [],
   "source": [
    "Systolic_BP = pd.read_csv(root_dir+'/vital_sign/Systolic_BP.csv')"
   ]
  },
  {
   "cell_type": "markdown",
   "metadata": {},
   "source": [
    "See how many patients that have both systolic blood pressure and diastolic blood pressure. Ans: 2388"
   ]
  },
  {
   "cell_type": "code",
   "execution_count": 72,
   "metadata": {},
   "outputs": [],
   "source": [
    "Systolic_BP['PATIENT_SK'].nunique()  # 2388\n",
    "Diastolic_BP['PATIENT_SK'].nunique()  # 2390\n",
    "patient_sk_overlap_indic1 = np.in1d(Systolic_BP['PATIENT_SK'].unique(),\n",
    "                                    Diastolic_BP['PATIENT_SK'].unique())\n",
    "sum(patient_sk_overlap_indic1)  # 2388\n",
    "patient_sk_overlap_indic2 = np.in1d(Diastolic_BP['PATIENT_SK'].unique(),\n",
    "                                    Systolic_BP['PATIENT_SK'].unique())\n",
    "sum(patient_sk_overlap_indic2)  # 2388\n",
    "not_overlap_patientsk = Diastolic_BP['PATIENT_SK'].unique()[\n",
    "        ~patient_sk_overlap_indic2]\n",
    "not_overlap_patientsk_detail = Diastolic_BP[Diastolic_BP['PATIENT_SK'].isin(\n",
    "        not_overlap_patientsk)]"
   ]
  },
  {
   "cell_type": "code",
   "execution_count": 69,
   "metadata": {},
   "outputs": [
    {
     "data": {
      "text/plain": [
       "<matplotlib.axes._subplots.AxesSubplot at 0x29f939d02b0>"
      ]
     },
     "execution_count": 69,
     "metadata": {},
     "output_type": "execute_result"
    },
    {
     "data": {
      "image/png": "[encoded data removed]",
      "text/plain": [
       "<Figure size 432x288 with 1 Axes>"
      ]
     },
     "metadata": {},
     "output_type": "display_data"
    }
   ],
   "source": [
    "sns.boxplot(Diastolic_BP['RESULT_VALUE_NUM'])"
   ]
  },
  {
   "cell_type": "code",
   "execution_count": 70,
   "metadata": {},
   "outputs": [
    {
     "data": {
      "text/plain": [
       "Text(0,0.5,'Counts')"
      ]
     },
     "execution_count": 70,
     "metadata": {},
     "output_type": "execute_result"
    },
    {
     "data": {
      "image/png": "[encoded data removed]",
      "text/plain": [
       "<Figure size 432x288 with 1 Axes>"
      ]
     },
     "metadata": {},
     "output_type": "display_data"
    }
   ],
   "source": [
    "ax = Systolic_BP['RESULT_VALUE_NUM'].plot.hist()\n",
    "ax.set_xlabel('Systolic blood pressure')\n",
    "ax.set_ylabel('Counts')"
   ]
  },
  {
   "cell_type": "code",
   "execution_count": 71,
   "metadata": {},
   "outputs": [],
   "source": [
    "Systolic_BP = Systolic_BP.drop('PATIENT_ID', 1)\n",
    "Systolic_BP['EVENT_DATE'] = pd.to_datetime(Systolic_BP['EVENT_DATE'])\n",
    "# Merge the Diastolic_BP with patient level table\n",
    "Systolic_BP = pd.merge(Systolic_BP,\n",
    "                        pat_enc_final[['PATIENT_SK', 'ENCOUNTER_ID']],\n",
    "                        how='inner', on='ENCOUNTER_ID')"
   ]
  },
  {
   "cell_type": "code",
   "execution_count": 85,
   "metadata": {},
   "outputs": [
    {
     "name": "stdout",
     "output_type": "stream",
     "text": [
      "The number of patients who only received one type of treatment,  with total consumed strength of the medication order > 0      and have blood pressure values: \n",
      "467.\n"
     ]
    }
   ],
   "source": [
    "Systolic_BP = Systolic_BP.sort_values(by=['PATIENT_SK', 'EVENT_DATE'])\n",
    "one_type_treatment_patsk = one_type_treatment_valid_tcs['PATIENT_SK'].unique()\n",
    "valid_pat_sk_indc = np.in1d(\n",
    "        one_type_treatment_patsk, Systolic_BP['PATIENT_SK'].unique())\n",
    "valid_pat_sk = one_type_treatment_patsk[valid_pat_sk_indc]\n",
    "print('The number of patients who only received one type of treatment,  with total consumed strength of the medication order > 0\\\n",
    "      and have systolic blood pressure values: \\n{}.'.format(\n",
    "valid_pat_sk.shape[0]))"
   ]
  },
  {
   "cell_type": "code",
   "execution_count": 86,
   "metadata": {},
   "outputs": [],
   "source": [
    "# Indicator of useful patient sks\n",
    "ind_treat = one_type_treatment_valid_tcs['PATIENT_SK'].isin(valid_pat_sk)\n",
    "one_type_treat_have_validbp = one_type_treatment_valid_tcs[ind_treat]\n",
    "ind_bp = Systolic_BP['PATIENT_SK'].isin(valid_pat_sk)\n",
    "systolic_valid_bp = Systolic_BP[ind_bp]"
   ]
  },
  {
   "cell_type": "markdown",
   "metadata": {},
   "source": [
    "##### Basic summary of measurement times of systolic blood pressure"
   ]
  },
  {
   "cell_type": "markdown",
   "metadata": {},
   "source": [
    "Measurement times per patient"
   ]
  },
  {
   "cell_type": "code",
   "execution_count": 87,
   "metadata": {},
   "outputs": [
    {
     "data": {
      "text/plain": [
       "count     467.000000\n",
       "mean      308.792291\n",
       "std       347.522114\n",
       "min         1.000000\n",
       "25%        48.000000\n",
       "50%       182.000000\n",
       "75%       477.500000\n",
       "max      2223.000000\n",
       "dtype: float64"
      ]
     },
     "execution_count": 87,
     "metadata": {},
     "output_type": "execute_result"
    }
   ],
   "source": [
    "systolic_valid_bp_grpby_pat = systolic_valid_bp.groupby(['PATIENT_SK'])\n",
    "sysmeas_per_patient = systolic_valid_bp_grpby_pat.size()\n",
    "sysmeas_per_patient.describe()"
   ]
  },
  {
   "cell_type": "code",
   "execution_count": 88,
   "metadata": {},
   "outputs": [
    {
     "data": {
      "text/plain": [
       "<matplotlib.axes._subplots.AxesSubplot at 0x29f92a70908>"
      ]
     },
     "execution_count": 88,
     "metadata": {},
     "output_type": "execute_result"
    },
    {
     "data": {
      "image/png": "[encoded data removed]",
      "text/plain": [
       "<Figure size 432x288 with 1 Axes>"
      ]
     },
     "metadata": {},
     "output_type": "display_data"
    }
   ],
   "source": [
    "sns.boxplot(sysmeas_per_patient)"
   ]
  },
  {
   "cell_type": "code",
   "execution_count": 89,
   "metadata": {},
   "outputs": [
    {
     "data": {
      "text/plain": [
       "Text(0,0.5,'Counts of patients')"
      ]
     },
     "execution_count": 89,
     "metadata": {},
     "output_type": "execute_result"
    },
    {
     "data": {
      "image/png": "[encoded data removed]",
      "text/plain": [
       "<Figure size 432x288 with 1 Axes>"
      ]
     },
     "metadata": {},
     "output_type": "display_data"
    }
   ],
   "source": [
    "ax = sysmeas_per_patient.plot.hist(bins=100)\n",
    "ax.set_xlabel('Measurement times per patient')\n",
    "ax.set_ylabel('Counts of patients')"
   ]
  },
  {
   "cell_type": "markdown",
   "metadata": {},
   "source": [
    "Check the maxmium measurement times 2223"
   ]
  },
  {
   "cell_type": "code",
   "execution_count": 90,
   "metadata": {},
   "outputs": [
    {
     "data": {
      "text/html": [
       "<div>\n",
       "<style scoped>\n",
       "    .dataframe tbody tr th:only-of-type {\n",
       "        vertical-align: middle;\n",
       "    }\n",
       "\n",
       "    .dataframe tbody tr th {\n",
       "        vertical-align: top;\n",
       "    }\n",
       "\n",
       "    .dataframe thead th {\n",
       "        text-align: right;\n",
       "    }\n",
       "</style>\n",
       "<table border=\"1\" class=\"dataframe\">\n",
       "  <thead>\n",
       "    <tr style=\"text-align: right;\">\n",
       "      <th></th>\n",
       "      <th>ENCOUNTER_ID</th>\n",
       "      <th>RESULT_VALUE_NUM</th>\n",
       "      <th>EVENT_DATE</th>\n",
       "      <th>PATIENT_SK</th>\n",
       "    </tr>\n",
       "  </thead>\n",
       "  <tbody>\n",
       "    <tr>\n",
       "      <th>597287</th>\n",
       "      <td>250346176</td>\n",
       "      <td>210</td>\n",
       "      <td>2013-02-03 19:42:00</td>\n",
       "      <td>15157186</td>\n",
       "    </tr>\n",
       "    <tr>\n",
       "      <th>597195</th>\n",
       "      <td>250346176</td>\n",
       "      <td>206</td>\n",
       "      <td>2013-02-03 20:00:00</td>\n",
       "      <td>15157186</td>\n",
       "    </tr>\n",
       "    <tr>\n",
       "      <th>597007</th>\n",
       "      <td>250346176</td>\n",
       "      <td>176</td>\n",
       "      <td>2013-02-03 20:15:00</td>\n",
       "      <td>15157186</td>\n",
       "    </tr>\n",
       "    <tr>\n",
       "      <th>598575</th>\n",
       "      <td>250346176</td>\n",
       "      <td>159</td>\n",
       "      <td>2013-02-03 20:30:00</td>\n",
       "      <td>15157186</td>\n",
       "    </tr>\n",
       "    <tr>\n",
       "      <th>597257</th>\n",
       "      <td>250346176</td>\n",
       "      <td>189</td>\n",
       "      <td>2013-02-03 20:45:00</td>\n",
       "      <td>15157186</td>\n",
       "    </tr>\n",
       "    <tr>\n",
       "      <th>597587</th>\n",
       "      <td>250346176</td>\n",
       "      <td>189</td>\n",
       "      <td>2013-02-03 21:00:00</td>\n",
       "      <td>15157186</td>\n",
       "    </tr>\n",
       "    <tr>\n",
       "      <th>597172</th>\n",
       "      <td>250346176</td>\n",
       "      <td>97</td>\n",
       "      <td>2013-02-03 22:00:00</td>\n",
       "      <td>15157186</td>\n",
       "    </tr>\n",
       "    <tr>\n",
       "      <th>597014</th>\n",
       "      <td>250346176</td>\n",
       "      <td>148</td>\n",
       "      <td>2013-02-04 02:35:00</td>\n",
       "      <td>15157186</td>\n",
       "    </tr>\n",
       "    <tr>\n",
       "      <th>598269</th>\n",
       "      <td>250346176</td>\n",
       "      <td>141</td>\n",
       "      <td>2013-02-04 04:00:00</td>\n",
       "      <td>15157186</td>\n",
       "    </tr>\n",
       "    <tr>\n",
       "      <th>598565</th>\n",
       "      <td>250346176</td>\n",
       "      <td>139</td>\n",
       "      <td>2013-02-04 04:30:00</td>\n",
       "      <td>15157186</td>\n",
       "    </tr>\n",
       "    <tr>\n",
       "      <th>598006</th>\n",
       "      <td>250346176</td>\n",
       "      <td>126</td>\n",
       "      <td>2013-02-04 05:00:00</td>\n",
       "      <td>15157186</td>\n",
       "    </tr>\n",
       "    <tr>\n",
       "      <th>597562</th>\n",
       "      <td>250346176</td>\n",
       "      <td>131</td>\n",
       "      <td>2013-02-04 06:00:00</td>\n",
       "      <td>15157186</td>\n",
       "    </tr>\n",
       "    <tr>\n",
       "      <th>598813</th>\n",
       "      <td>250346176</td>\n",
       "      <td>116</td>\n",
       "      <td>2013-02-04 07:00:00</td>\n",
       "      <td>15157186</td>\n",
       "    </tr>\n",
       "    <tr>\n",
       "      <th>599018</th>\n",
       "      <td>250346176</td>\n",
       "      <td>109</td>\n",
       "      <td>2013-02-04 08:00:00</td>\n",
       "      <td>15157186</td>\n",
       "    </tr>\n",
       "    <tr>\n",
       "      <th>597164</th>\n",
       "      <td>250346176</td>\n",
       "      <td>201</td>\n",
       "      <td>2013-02-04 10:48:00</td>\n",
       "      <td>15157186</td>\n",
       "    </tr>\n",
       "    <tr>\n",
       "      <th>598340</th>\n",
       "      <td>250346176</td>\n",
       "      <td>122</td>\n",
       "      <td>2013-02-04 11:40:00</td>\n",
       "      <td>15157186</td>\n",
       "    </tr>\n",
       "    <tr>\n",
       "      <th>598774</th>\n",
       "      <td>250346176</td>\n",
       "      <td>95</td>\n",
       "      <td>2013-02-04 12:00:00</td>\n",
       "      <td>15157186</td>\n",
       "    </tr>\n",
       "    <tr>\n",
       "      <th>598499</th>\n",
       "      <td>250346176</td>\n",
       "      <td>106</td>\n",
       "      <td>2013-02-04 12:30:00</td>\n",
       "      <td>15157186</td>\n",
       "    </tr>\n",
       "    <tr>\n",
       "      <th>597094</th>\n",
       "      <td>250346176</td>\n",
       "      <td>100</td>\n",
       "      <td>2013-02-04 13:00:00</td>\n",
       "      <td>15157186</td>\n",
       "    </tr>\n",
       "    <tr>\n",
       "      <th>597209</th>\n",
       "      <td>250346176</td>\n",
       "      <td>124</td>\n",
       "      <td>2013-02-04 14:00:00</td>\n",
       "      <td>15157186</td>\n",
       "    </tr>\n",
       "    <tr>\n",
       "      <th>597269</th>\n",
       "      <td>250346176</td>\n",
       "      <td>114</td>\n",
       "      <td>2013-02-04 15:00:00</td>\n",
       "      <td>15157186</td>\n",
       "    </tr>\n",
       "    <tr>\n",
       "      <th>597952</th>\n",
       "      <td>250346176</td>\n",
       "      <td>112</td>\n",
       "      <td>2013-02-04 16:00:00</td>\n",
       "      <td>15157186</td>\n",
       "    </tr>\n",
       "    <tr>\n",
       "      <th>598329</th>\n",
       "      <td>250346176</td>\n",
       "      <td>116</td>\n",
       "      <td>2013-02-04 17:00:00</td>\n",
       "      <td>15157186</td>\n",
       "    </tr>\n",
       "    <tr>\n",
       "      <th>597610</th>\n",
       "      <td>250346176</td>\n",
       "      <td>120</td>\n",
       "      <td>2013-02-04 18:00:00</td>\n",
       "      <td>15157186</td>\n",
       "    </tr>\n",
       "    <tr>\n",
       "      <th>597348</th>\n",
       "      <td>250346176</td>\n",
       "      <td>126</td>\n",
       "      <td>2013-02-04 19:00:00</td>\n",
       "      <td>15157186</td>\n",
       "    </tr>\n",
       "    <tr>\n",
       "      <th>...</th>\n",
       "      <td>...</td>\n",
       "      <td>...</td>\n",
       "      <td>...</td>\n",
       "      <td>...</td>\n",
       "    </tr>\n",
       "    <tr>\n",
       "      <th>598454</th>\n",
       "      <td>250346176</td>\n",
       "      <td>100</td>\n",
       "      <td>2013-04-04 04:00:00</td>\n",
       "      <td>15157186</td>\n",
       "    </tr>\n",
       "    <tr>\n",
       "      <th>597642</th>\n",
       "      <td>250346176</td>\n",
       "      <td>103</td>\n",
       "      <td>2013-04-04 08:00:00</td>\n",
       "      <td>15157186</td>\n",
       "    </tr>\n",
       "    <tr>\n",
       "      <th>598090</th>\n",
       "      <td>250346176</td>\n",
       "      <td>110</td>\n",
       "      <td>2013-04-04 16:00:00</td>\n",
       "      <td>15157186</td>\n",
       "    </tr>\n",
       "    <tr>\n",
       "      <th>597030</th>\n",
       "      <td>250346176</td>\n",
       "      <td>96</td>\n",
       "      <td>2013-04-04 20:00:00</td>\n",
       "      <td>15157186</td>\n",
       "    </tr>\n",
       "    <tr>\n",
       "      <th>599023</th>\n",
       "      <td>250346176</td>\n",
       "      <td>113</td>\n",
       "      <td>2013-04-05 00:00:00</td>\n",
       "      <td>15157186</td>\n",
       "    </tr>\n",
       "    <tr>\n",
       "      <th>598809</th>\n",
       "      <td>250346176</td>\n",
       "      <td>92</td>\n",
       "      <td>2013-04-05 04:00:00</td>\n",
       "      <td>15157186</td>\n",
       "    </tr>\n",
       "    <tr>\n",
       "      <th>598941</th>\n",
       "      <td>250346176</td>\n",
       "      <td>97</td>\n",
       "      <td>2013-04-05 08:00:00</td>\n",
       "      <td>15157186</td>\n",
       "    </tr>\n",
       "    <tr>\n",
       "      <th>598203</th>\n",
       "      <td>250346176</td>\n",
       "      <td>118</td>\n",
       "      <td>2013-04-05 16:00:00</td>\n",
       "      <td>15157186</td>\n",
       "    </tr>\n",
       "    <tr>\n",
       "      <th>598651</th>\n",
       "      <td>250346176</td>\n",
       "      <td>100</td>\n",
       "      <td>2013-04-05 20:00:00</td>\n",
       "      <td>15157186</td>\n",
       "    </tr>\n",
       "    <tr>\n",
       "      <th>599052</th>\n",
       "      <td>250346176</td>\n",
       "      <td>108</td>\n",
       "      <td>2013-04-06 04:00:00</td>\n",
       "      <td>15157186</td>\n",
       "    </tr>\n",
       "    <tr>\n",
       "      <th>597906</th>\n",
       "      <td>250346176</td>\n",
       "      <td>103</td>\n",
       "      <td>2013-04-06 08:00:00</td>\n",
       "      <td>15157186</td>\n",
       "    </tr>\n",
       "    <tr>\n",
       "      <th>598613</th>\n",
       "      <td>250346176</td>\n",
       "      <td>82</td>\n",
       "      <td>2013-04-06 12:00:00</td>\n",
       "      <td>15157186</td>\n",
       "    </tr>\n",
       "    <tr>\n",
       "      <th>598051</th>\n",
       "      <td>250346176</td>\n",
       "      <td>76</td>\n",
       "      <td>2013-04-06 16:00:00</td>\n",
       "      <td>15157186</td>\n",
       "    </tr>\n",
       "    <tr>\n",
       "      <th>598667</th>\n",
       "      <td>250346176</td>\n",
       "      <td>77</td>\n",
       "      <td>2013-04-06 20:00:00</td>\n",
       "      <td>15157186</td>\n",
       "    </tr>\n",
       "    <tr>\n",
       "      <th>598265</th>\n",
       "      <td>250346176</td>\n",
       "      <td>94</td>\n",
       "      <td>2013-04-07 04:00:00</td>\n",
       "      <td>15157186</td>\n",
       "    </tr>\n",
       "    <tr>\n",
       "      <th>597113</th>\n",
       "      <td>250346176</td>\n",
       "      <td>74</td>\n",
       "      <td>2013-04-07 12:00:00</td>\n",
       "      <td>15157186</td>\n",
       "    </tr>\n",
       "    <tr>\n",
       "      <th>597268</th>\n",
       "      <td>250346176</td>\n",
       "      <td>83</td>\n",
       "      <td>2013-04-07 20:00:00</td>\n",
       "      <td>15157186</td>\n",
       "    </tr>\n",
       "    <tr>\n",
       "      <th>597449</th>\n",
       "      <td>250346176</td>\n",
       "      <td>66</td>\n",
       "      <td>2013-04-08 12:03:00</td>\n",
       "      <td>15157186</td>\n",
       "    </tr>\n",
       "    <tr>\n",
       "      <th>597622</th>\n",
       "      <td>250346176</td>\n",
       "      <td>73</td>\n",
       "      <td>2013-04-09 12:02:00</td>\n",
       "      <td>15157186</td>\n",
       "    </tr>\n",
       "    <tr>\n",
       "      <th>598180</th>\n",
       "      <td>250346176</td>\n",
       "      <td>87</td>\n",
       "      <td>2013-04-09 16:00:00</td>\n",
       "      <td>15157186</td>\n",
       "    </tr>\n",
       "    <tr>\n",
       "      <th>597670</th>\n",
       "      <td>250346176</td>\n",
       "      <td>71</td>\n",
       "      <td>2013-04-10 04:00:00</td>\n",
       "      <td>15157186</td>\n",
       "    </tr>\n",
       "    <tr>\n",
       "      <th>598574</th>\n",
       "      <td>250346176</td>\n",
       "      <td>68</td>\n",
       "      <td>2013-04-10 08:00:00</td>\n",
       "      <td>15157186</td>\n",
       "    </tr>\n",
       "    <tr>\n",
       "      <th>597474</th>\n",
       "      <td>250346176</td>\n",
       "      <td>73</td>\n",
       "      <td>2013-04-10 12:00:00</td>\n",
       "      <td>15157186</td>\n",
       "    </tr>\n",
       "    <tr>\n",
       "      <th>599064</th>\n",
       "      <td>250346176</td>\n",
       "      <td>66</td>\n",
       "      <td>2013-04-10 16:00:00</td>\n",
       "      <td>15157186</td>\n",
       "    </tr>\n",
       "    <tr>\n",
       "      <th>598346</th>\n",
       "      <td>250346176</td>\n",
       "      <td>68</td>\n",
       "      <td>2013-04-10 20:00:00</td>\n",
       "      <td>15157186</td>\n",
       "    </tr>\n",
       "  </tbody>\n",
       "</table>\n",
       "<p>2223 rows × 4 columns</p>\n",
       "</div>"
      ],
      "text/plain": [
       "        ENCOUNTER_ID  RESULT_VALUE_NUM          EVENT_DATE  PATIENT_SK\n",
       "597287     250346176               210 2013-02-03 19:42:00    15157186\n",
       "597195     250346176               206 2013-02-03 20:00:00    15157186\n",
       "597007     250346176               176 2013-02-03 20:15:00    15157186\n",
       "598575     250346176               159 2013-02-03 20:30:00    15157186\n",
       "597257     250346176               189 2013-02-03 20:45:00    15157186\n",
       "597587     250346176               189 2013-02-03 21:00:00    15157186\n",
       "597172     250346176                97 2013-02-03 22:00:00    15157186\n",
       "597014     250346176               148 2013-02-04 02:35:00    15157186\n",
       "598269     250346176               141 2013-02-04 04:00:00    15157186\n",
       "598565     250346176               139 2013-02-04 04:30:00    15157186\n",
       "598006     250346176               126 2013-02-04 05:00:00    15157186\n",
       "597562     250346176               131 2013-02-04 06:00:00    15157186\n",
       "598813     250346176               116 2013-02-04 07:00:00    15157186\n",
       "599018     250346176               109 2013-02-04 08:00:00    15157186\n",
       "597164     250346176               201 2013-02-04 10:48:00    15157186\n",
       "598340     250346176               122 2013-02-04 11:40:00    15157186\n",
       "598774     250346176                95 2013-02-04 12:00:00    15157186\n",
       "598499     250346176               106 2013-02-04 12:30:00    15157186\n",
       "597094     250346176               100 2013-02-04 13:00:00    15157186\n",
       "597209     250346176               124 2013-02-04 14:00:00    15157186\n",
       "597269     250346176               114 2013-02-04 15:00:00    15157186\n",
       "597952     250346176               112 2013-02-04 16:00:00    15157186\n",
       "598329     250346176               116 2013-02-04 17:00:00    15157186\n",
       "597610     250346176               120 2013-02-04 18:00:00    15157186\n",
       "597348     250346176               126 2013-02-04 19:00:00    15157186\n",
       "...              ...               ...                 ...         ...\n",
       "598454     250346176               100 2013-04-04 04:00:00    15157186\n",
       "597642     250346176               103 2013-04-04 08:00:00    15157186\n",
       "598090     250346176               110 2013-04-04 16:00:00    15157186\n",
       "597030     250346176                96 2013-04-04 20:00:00    15157186\n",
       "599023     250346176               113 2013-04-05 00:00:00    15157186\n",
       "598809     250346176                92 2013-04-05 04:00:00    15157186\n",
       "598941     250346176                97 2013-04-05 08:00:00    15157186\n",
       "598203     250346176               118 2013-04-05 16:00:00    15157186\n",
       "598651     250346176               100 2013-04-05 20:00:00    15157186\n",
       "599052     250346176               108 2013-04-06 04:00:00    15157186\n",
       "597906     250346176               103 2013-04-06 08:00:00    15157186\n",
       "598613     250346176                82 2013-04-06 12:00:00    15157186\n",
       "598051     250346176                76 2013-04-06 16:00:00    15157186\n",
       "598667     250346176                77 2013-04-06 20:00:00    15157186\n",
       "598265     250346176                94 2013-04-07 04:00:00    15157186\n",
       "597113     250346176                74 2013-04-07 12:00:00    15157186\n",
       "597268     250346176                83 2013-04-07 20:00:00    15157186\n",
       "597449     250346176                66 2013-04-08 12:03:00    15157186\n",
       "597622     250346176                73 2013-04-09 12:02:00    15157186\n",
       "598180     250346176                87 2013-04-09 16:00:00    15157186\n",
       "597670     250346176                71 2013-04-10 04:00:00    15157186\n",
       "598574     250346176                68 2013-04-10 08:00:00    15157186\n",
       "597474     250346176                73 2013-04-10 12:00:00    15157186\n",
       "599064     250346176                66 2013-04-10 16:00:00    15157186\n",
       "598346     250346176                68 2013-04-10 20:00:00    15157186\n",
       "\n",
       "[2223 rows x 4 columns]"
      ]
     },
     "execution_count": 90,
     "metadata": {},
     "output_type": "execute_result"
    }
   ],
   "source": [
    "max_sysmeas_index = sysmeas_per_patient.idxmax()\n",
    "max_sysmeas_detail = systolic_valid_bp[\n",
    "        systolic_valid_bp['PATIENT_SK'] == max_meas_index]\n",
    "max_sysmeas_detail"
   ]
  },
  {
   "cell_type": "markdown",
   "metadata": {},
   "source": [
    "#### Trend of blood pressure"
   ]
  },
  {
   "cell_type": "markdown",
   "metadata": {},
   "source": [
    "By introducing a threshold parameter, we can observe the trend of blood pressure at the time interval we are interested in. The shreshold could be 10 hours or 10 days. "
   ]
  },
  {
   "cell_type": "code",
   "execution_count": 57,
   "metadata": {},
   "outputs": [
    {
     "data": {
      "image/png": "[encoded data removed]",
      "text/plain": [
       "<Figure size 432x288 with 1 Axes>"
      ]
     },
     "metadata": {},
     "output_type": "display_data"
    },
    {
     "data": {
      "image/png": "[encoded data removed]",
      "text/plain": [
       "<Figure size 432x288 with 1 Axes>"
      ]
     },
     "metadata": {},
     "output_type": "display_data"
    }
   ],
   "source": [
    "sample_patient_sk = np.random.choice(valid_pat_sk, 10)\n",
    "for patient_sk in sample_patient_sk:\n",
    "    sample_diasbp = Diastolic_BP[Diastolic_BP['PATIENT_SK'] == patient_sk]\n",
    "    sample_med = one_type_treatment_valid_tcs[\n",
    "        one_type_treatment_valid_tcs['PATIENT_SK'] == patient_sk]\n",
    "    fig, ax = plt.subplots()\n",
    "    ax.plot(sample_diasbp['EVENT_DATE'], sample_diasbp['RESULT_VALUE_NUM'])\n",
    "    for i, val in enumerate(sample_med['MED_STARTED_DT_TM']):\n",
    "        ax.axvline(x=sample_med['MED_STARTED_DT_TM'].iloc[i], alpha=0.3,\n",
    "                   color='red')\n",
    "        ax.text(sample_med['MED_STARTED_DT_TM'].iloc[i], ax.get_ylim()[0],\n",
    "                sample_med['GENERIC_NAME'].iloc[i], ha='center', color='red')\n",
    "        ax.xaxis.set_major_locator(plt.MaxNLocator(5))\n",
    "        ax.xaxis.set_major_formatter(DateFormatter('%Y-%m-%d %H:%M:%S'))\n",
    "        ax.fmt_xdata = DateFormatter('%Y-%m-%d %H:%M:%S')\n",
    "        fig.autofmt_xdate()"
   ]
  },
  {
   "cell_type": "code",
   "execution_count": null,
   "metadata": {},
   "outputs": [],
   "source": []
  }
 ],
 "metadata": {
  "hide_input": false,
  "kernelspec": {
   "display_name": "Python 3",
   "language": "python",
   "name": "python3"
  },
  "language_info": {
   "codemirror_mode": {
    "name": "ipython",
    "version": 3
   },
   "file_extension": ".py",
   "mimetype": "text/x-python",
   "name": "python",
   "nbconvert_exporter": "python",
   "pygments_lexer": "ipython3",
   "version": "3.6.5"
  }
 },
 "nbformat": 4,
 "nbformat_minor": 2
}
